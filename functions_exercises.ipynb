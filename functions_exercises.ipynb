{
 "cells": [
  {
   "cell_type": "code",
   "execution_count": null,
   "id": "d0e86ba6",
   "metadata": {},
   "outputs": [],
   "source": [
    "# Define a function named is_two. \n",
    "\n",
    "# It should accept one input and return True if the passed input\n",
    "# is either the number or the string 2, False otherwise."
   ]
  },
  {
   "cell_type": "code",
   "execution_count": null,
   "id": "664fdd8f",
   "metadata": {},
   "outputs": [],
   "source": [
    "def is_two(x):\n",
    "    if x == 2 or x == '2':\n",
    "        print(True)\n",
    "    else:\n",
    "        print(False)\n",
    "\n",
    "print(is_two(1))"
   ]
  },
  {
   "cell_type": "code",
   "execution_count": null,
   "id": "a0c6223e",
   "metadata": {},
   "outputs": [],
   "source": [
    "# Define a function named is_vowel. \n",
    "# It should return True if the passed string is a vowel, False otherwise."
   ]
  },
  {
   "cell_type": "code",
   "execution_count": null,
   "id": "49457eae",
   "metadata": {},
   "outputs": [],
   "source": [
    "def is_vowel(x):\n",
    "    \n",
    "    if x.lower() in ['a', 'e', 'i', 'o', 'u']:\n",
    "        return True\n",
    "    else:\n",
    "        return False\n",
    "\n",
    "print(is_vowel('a'))\n",
    "print(is_vowel('A'))\n",
    "print(is_vowel('b'))"
   ]
  },
  {
   "cell_type": "code",
   "execution_count": null,
   "id": "bce1d7da",
   "metadata": {},
   "outputs": [],
   "source": [
    "# Define a function named is_consonant. \n",
    "# It should return True if the passed string is a consonant, \n",
    "# False otherwise. Use your is_vowel function to accomplish this."
   ]
  },
  {
   "cell_type": "code",
   "execution_count": 82,
   "id": "61abf7c0",
   "metadata": {},
   "outputs": [
    {
     "name": "stdout",
     "output_type": "stream",
     "text": [
      "False\n",
      "True\n",
      "False\n"
     ]
    }
   ],
   "source": [
    "def is_consonant(x):\n",
    "    \n",
    "    if is_vowel(x):\n",
    "        return False\n",
    "    else:\n",
    "        return True\n",
    "\n",
    "print(is_consonant('a'))\n",
    "print(is_consonant('b'))\n",
    "print(is_consonant('e'))"
   ]
  },
  {
   "cell_type": "code",
   "execution_count": null,
   "id": "39b7750b",
   "metadata": {},
   "outputs": [],
   "source": [
    "# Define a function that accepts a string that is a word. \n",
    "# The function should capitalize the first letter of the word \n",
    "# if the word starts with a consonant."
   ]
  },
  {
   "cell_type": "code",
   "execution_count": 87,
   "id": "8e2c3bec",
   "metadata": {},
   "outputs": [
    {
     "name": "stdout",
     "output_type": "stream",
     "text": [
      "Works\n"
     ]
    }
   ],
   "source": [
    "def is_word(word):\n",
    "    \n",
    "    if is_consonant(word[0]):\n",
    "        return word.capitalize()\n",
    "    else:\n",
    "        return word\n",
    "    \n",
    "print(is_word('works'))"
   ]
  },
  {
   "cell_type": "code",
   "execution_count": null,
   "id": "eaf20aed",
   "metadata": {},
   "outputs": [],
   "source": [
    "# Define a function named calculate_tip. \n",
    "# It should accept a tip percentage (a number between 0 and 1) \n",
    "# and the bill total, \n",
    "# and return the amount to tip."
   ]
  },
  {
   "cell_type": "code",
   "execution_count": 92,
   "id": "3ade1171",
   "metadata": {},
   "outputs": [
    {
     "name": "stdout",
     "output_type": "stream",
     "text": [
      "7.5\n"
     ]
    }
   ],
   "source": [
    "def calculate_tip(bill, tip):\n",
    "    return bill*tip\n",
    "\n",
    "print(calculate_tip(50, .15))"
   ]
  }
 ],
 "metadata": {
  "kernelspec": {
   "display_name": "Python 3 (ipykernel)",
   "language": "python",
   "name": "python3"
  },
  "language_info": {
   "codemirror_mode": {
    "name": "ipython",
    "version": 3
   },
   "file_extension": ".py",
   "mimetype": "text/x-python",
   "name": "python",
   "nbconvert_exporter": "python",
   "pygments_lexer": "ipython3",
   "version": "3.9.13"
  }
 },
 "nbformat": 4,
 "nbformat_minor": 5
}
