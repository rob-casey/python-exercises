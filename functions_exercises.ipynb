{
 "cells": [
  {
   "cell_type": "code",
   "execution_count": null,
   "id": "d0e86ba6",
   "metadata": {},
   "outputs": [],
   "source": [
    "# Define a function named is_two. \n",
    "\n",
    "# It should accept one input and return True if the passed input\n",
    "# is either the number or the string 2, False otherwise."
   ]
  },
  {
   "cell_type": "code",
   "execution_count": null,
   "id": "76b6862d",
   "metadata": {},
   "outputs": [],
   "source": [
    "def is_two(x):\n",
    "    if x == 2 or x == '2':\n",
    "        print(True)\n",
    "    else:\n",
    "        print(False)\n",
    "\n",
    "print(is_two(1))\n",
    "\n",
    "# alternative options\n",
    "# can use assert function\n",
    "# assert is_two(2) == True\n",
    "# if type(num) == str\n",
    "# if type(num) == int\n",
    "\n",
    "# return num == 2 or num == '2'; can render inside return statement"
   ]
  },
  {
   "cell_type": "code",
   "execution_count": null,
   "id": "d4e63083",
   "metadata": {},
   "outputs": [],
   "source": [
    "# Define a function named is_vowel. \n",
    "# It should return True if the passed string is a vowel, False otherwise."
   ]
  },
  {
   "cell_type": "code",
   "execution_count": 109,
   "id": "d4246a58",
   "metadata": {},
   "outputs": [
    {
     "name": "stdout",
     "output_type": "stream",
     "text": [
      "True\n",
      "True\n",
      "False\n"
     ]
    }
   ],
   "source": [
    "def is_vowel(x):\n",
    "    \n",
    "    if x.lower() in ['a', 'e', 'i', 'o', 'u']:\n",
    "        return True\n",
    "    else:\n",
    "        return False\n",
    "\n",
    "print(is_vowel('a'))\n",
    "print(is_vowel('A'))\n",
    "print(is_vowel('b'))\n",
    "\n",
    "# alternative options\n",
    "# return my_let.lower() in 'aeiou'\n",
    "# if type(my_let) == str:\n",
    "#    if len(my_let) == 1:\n",
    "#.      my_let.lower() in list('aeiou')\n",
    "# else: return false"
   ]
  },
  {
   "cell_type": "code",
   "execution_count": null,
   "id": "705c531d",
   "metadata": {},
   "outputs": [],
   "source": [
    "# Define a function named is_consonant. \n",
    "# It should return True if the passed string is a consonant, \n",
    "# False otherwise. Use your is_vowel function to accomplish this."
   ]
  },
  {
   "cell_type": "code",
   "execution_count": 82,
   "id": "b2db1a4f",
   "metadata": {},
   "outputs": [
    {
     "name": "stdout",
     "output_type": "stream",
     "text": [
      "False\n",
      "True\n",
      "False\n"
     ]
    }
   ],
   "source": [
    "def is_consonant(x):\n",
    "    \n",
    "    if is_vowel(x):\n",
    "        return False\n",
    "    else:\n",
    "        return True\n",
    "\n",
    "print(is_consonant('a'))\n",
    "print(is_consonant('b'))\n",
    "print(is_consonant('e'))\n",
    "\n",
    "# alternative options\n",
    "# isalpha() - in alphabet"
   ]
  },
  {
   "cell_type": "code",
   "execution_count": null,
   "id": "d80068d8",
   "metadata": {},
   "outputs": [],
   "source": [
    "# Define a function that accepts a string that is a word. \n",
    "# The function should capitalize the first letter of the word \n",
    "# if the word starts with a consonant."
   ]
  },
  {
   "cell_type": "code",
   "execution_count": 110,
   "id": "74646c7f",
   "metadata": {},
   "outputs": [
    {
     "name": "stdout",
     "output_type": "stream",
     "text": [
      "Works\n",
      "echo\n"
     ]
    }
   ],
   "source": [
    "def is_word(word):\n",
    "    \n",
    "    if is_consonant(word[0]):\n",
    "        return word.capitalize()\n",
    "    else:\n",
    "        return word\n",
    "    \n",
    "print(is_word('works'))\n",
    "print(is_word('echo'))\n",
    "\n",
    "#"
   ]
  },
  {
   "cell_type": "code",
   "execution_count": null,
   "id": "f0d64fd1",
   "metadata": {},
   "outputs": [],
   "source": [
    "# Define a function named calculate_tip. \n",
    "# It should accept a tip percentage (a number between 0 and 1) \n",
    "# and the bill total, \n",
    "# and return the amount to tip."
   ]
  },
  {
   "cell_type": "code",
   "execution_count": 92,
   "id": "fdda3a63",
   "metadata": {},
   "outputs": [
    {
     "name": "stdout",
     "output_type": "stream",
     "text": [
      "7.5\n"
     ]
    }
   ],
   "source": [
    "def calculate_tip(bill, tip):\n",
    "    return bill*tip\n",
    "\n",
    "print(calculate_tip(50, .15))\n",
    "\n",
    "# alternative\n",
    "# (bill, bill=.15)"
   ]
  },
  {
   "cell_type": "code",
   "execution_count": null,
   "id": "8725a63b",
   "metadata": {},
   "outputs": [],
   "source": [
    "# Define a function named apply_discount. \n",
    "# It should accept a original price, \n",
    "# and a discount percentage, \n",
    "# and return the price after the discount is applied."
   ]
  },
  {
   "cell_type": "code",
   "execution_count": 93,
   "id": "79494e31",
   "metadata": {},
   "outputs": [
    {
     "name": "stdout",
     "output_type": "stream",
     "text": [
      "7.5\n"
     ]
    }
   ],
   "source": [
    "def apply_discount(price, disc):\n",
    "    return price * disc\n",
    "\n",
    "print(apply_discount(50, .15))\n",
    "\n",
    "# alternative\n",
    "# discount value = orig * disc\n",
    "# new price = orig price - discount value\n",
    "# return new price\n",
    "# my_15_disc = lambda x: x - (x*.15)\n",
    "# lambda generally not assigned to a variable"
   ]
  },
  {
   "cell_type": "code",
   "execution_count": null,
   "id": "54f51942",
   "metadata": {},
   "outputs": [],
   "source": [
    "# Define a function named handle_commas. \n",
    "# It should accept a string that is a number \n",
    "# that contains commas in it as input, \n",
    "# and return a number as output."
   ]
  },
  {
   "cell_type": "code",
   "execution_count": 114,
   "id": "3bea048f",
   "metadata": {},
   "outputs": [
    {
     "name": "stdout",
     "output_type": "stream",
     "text": [
      "1000000\n"
     ]
    }
   ],
   "source": [
    "def handle_commas(string):\n",
    "    new_string = string\n",
    "    for x in string.lower():\n",
    "        if x == ',':\n",
    "            new_string = new_string.replace(',', '')\n",
    "    return int(new_string)\n",
    "\n",
    "print(handle_commas('1,000,000'))\n",
    "\n",
    "# alternative\n",
    "# treat string like string, remove commas\n",
    "# then turn into number\n",
    "# for digit in my_num:\n",
    "#.     if digit == ','\n",
    "#          continue\n",
    "#      else:\n",
    "#          my_new_num += digit\n",
    "# 1,000,00.replace(',', ' ') $$$\n",
    "# can if digit == '.'\n",
    "#.       break"
   ]
  },
  {
   "cell_type": "code",
   "execution_count": null,
   "id": "fcf0fc09",
   "metadata": {},
   "outputs": [],
   "source": [
    "# Define a function named get_letter_grade. \n",
    "# It should accept a number and return the letter grade \n",
    "# associated with that number (A-F)."
   ]
  },
  {
   "cell_type": "code",
   "execution_count": null,
   "id": "2634843b",
   "metadata": {},
   "outputs": [],
   "source": [
    "def get_letter_grade(number):\n",
    "    return value\n",
    "\n",
    "\n",
    "\n",
    "\n",
    "\n",
    "\n",
    "# alternative\n",
    "# if my_num_grade >= 90:\n",
    "#    return 'A'\n",
    "# elif 'BCD'\n",
    "# else 'F'\n",
    "#\n",
    "#\n"
   ]
  },
  {
   "cell_type": "code",
   "execution_count": null,
   "id": "982a0a29",
   "metadata": {},
   "outputs": [],
   "source": [
    "# Define a function named remove_vowels that accepts a string \n",
    "# and returns a string with all the vowels removed."
   ]
  },
  {
   "cell_type": "code",
   "execution_count": null,
   "id": "8d1c95e6",
   "metadata": {},
   "outputs": [],
   "source": [
    "def remove_vowels\n",
    "\n",
    "\n",
    "\n",
    "\n",
    "\n",
    "\n",
    "# alternative\n",
    "# no_vowels = ''\n",
    "# if is_vowel(n):\n",
    "#   continue\n",
    "# else: \n",
    "#   no_vowels += n\n",
    "# ''.join(new_string) - jam together\n",
    "# 'abcdefg'.isidentifier()\n",
    "# isdigit, isalpha\n",
    "# for let in my_var\n",
    "# if let.isdigit() or not isalpha()\n"
   ]
  },
  {
   "cell_type": "code",
   "execution_count": null,
   "id": "5e341e35",
   "metadata": {},
   "outputs": [],
   "source": [
    "# Define a function named normalize_name. \n",
    "# It should accept a string and return a valid python identifier, that is:\n",
    "# anything that is not a valid python identifier should be removed\n",
    "# leading and trailing whitespace should be removed\n",
    "# everything should be lowercase\n",
    "# spaces should be replaced with underscores\n",
    "# for example:\n",
    "# Name will become name\n",
    "# First Name will become first_name\n",
    "# % Completed will become completed"
   ]
  },
  {
   "cell_type": "code",
   "execution_count": null,
   "id": "b0f3cb3c",
   "metadata": {},
   "outputs": [],
   "source": [
    "def normalize_name\n",
    "\n",
    "\n",
    "\n",
    "\n",
    "# alternative\n",
    "# \n",
    "#\n",
    "#\n",
    "#\n",
    "#\n"
   ]
  },
  {
   "cell_type": "code",
   "execution_count": null,
   "id": "da37c96b",
   "metadata": {},
   "outputs": [],
   "source": []
  }
 ],
 "metadata": {
  "kernelspec": {
   "display_name": "Python 3 (ipykernel)",
   "language": "python",
   "name": "python3"
  },
  "language_info": {
   "codemirror_mode": {
    "name": "ipython",
    "version": 3
   },
   "file_extension": ".py",
   "mimetype": "text/x-python",
   "name": "python",
   "nbconvert_exporter": "python",
   "pygments_lexer": "ipython3",
   "version": "3.9.13"
  }
 },
 "nbformat": 4,
 "nbformat_minor": 5
}
