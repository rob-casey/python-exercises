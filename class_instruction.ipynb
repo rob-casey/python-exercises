{
 "cells": [
  {
   "cell_type": "code",
   "execution_count": null,
   "id": "bf2dc8a1",
   "metadata": {},
   "outputs": [],
   "source": [
    "Python Object-Oriented Programming\n",
    "\n",
    "Basics of Creating and Instantiating Classes\n",
    "Inheritance\n",
    "Class and Instance Variables\n",
    "Static Methods and Class Methods"
   ]
  },
  {
   "cell_type": "code",
   "execution_count": null,
   "id": "ff214482",
   "metadata": {},
   "outputs": [],
   "source": [
    "Learned how to create simple classes\n",
    "Learned the difference between a class and an instance of that class\n",
    "Learned how to initialize class attributes and create methods"
   ]
  },
  {
   "cell_type": "code",
   "execution_count": null,
   "id": "f7621ca6",
   "metadata": {},
   "outputs": [],
   "source": [
    "Classes allow us to logically group our data and functions in a way\n",
    "thats easy to reuse and\n",
    "thats easy to build upon if need be.\n",
    "\n",
    "data and functions that are associated with a class ->\n",
    "attributes and methods\n",
    "\n",
    "methods = functions that are associated with a class"
   ]
  },
  {
   "cell_type": "code",
   "execution_count": 1,
   "id": "8af2b5d7",
   "metadata": {},
   "outputs": [],
   "source": [
    "# Class vs. Instance of a Class\n",
    "# Class is blueprint for creating instances.\n",
    "# i.e. Each unique employee with be an instance of that class.\n",
    "\n",
    "# Employee Example\n",
    "\n",
    "class employee:\n",
    "    \n",
    "    def __init__(self, first, last, pay): # initialize\n",
    "        # methods receive the first instance as the argument automatically, self.\n",
    "        # after self, we can specify additional arguments we want to accept\n",
    "        self.first = first\n",
    "        self.last = last\n",
    "        self.pay = pay\n",
    "        self.email = first + '.' + last + '@company.com'\n",
    "        \n",
    "# emp_1 gets passed in as \"self\"        \n",
    "emp_1 = employee('Rob', 'Casey', 100000)\n",
    "# represents below code via class + instance \n",
    "\n",
    "emp_1.first = \"rob\"\n",
    "emp_1.last = \"casey\"\n",
    "emp_1.pay = 100000\n",
    "emp_1.email = 'rob.casey@company.com'\n",
    "\n",
    "\n",
    "    def fullname(self): # methods receive the first instance as the argument automatically.\n",
    "        return '{} {}'.format(self.first, self.last)\n",
    "\n",
    "# print('{} {}'.format(emp_1.first, emp_1.last))\n",
    "\n",
    "\n",
    "When running methods using the class name, we have to manually pass\n",
    "in the instances as an argument.\n",
    "\n",
    "Employee.fullname(emp_1) = print(emp_1.fullname())"
   ]
  },
  {
   "cell_type": "code",
   "execution_count": null,
   "id": "5f30b027",
   "metadata": {},
   "outputs": [],
   "source": [
    "emp_1.first = \"rob\"\n",
    "emp_1.last = \"casey\"\n",
    "emp_1.email = 'rob.casey@company.com'\n",
    "emp_1.pay = 100000\n",
    "\n",
    "# Instead of doing all of this manually, we can have this completed\n",
    "# as this instance is being created. Reduces mistakes."
   ]
  },
  {
   "cell_type": "code",
   "execution_count": null,
   "id": "033038d6",
   "metadata": {},
   "outputs": [],
   "source": [
    "emp_1 = employee()\n",
    "emp_2 = employee()\n",
    "# these are objects"
   ]
  },
  {
   "cell_type": "code",
   "execution_count": null,
   "id": "ed8d47e3",
   "metadata": {},
   "outputs": [],
   "source": [
    "Instance variables contain data that is unique to each instance"
   ]
  }
 ],
 "metadata": {
  "kernelspec": {
   "display_name": "Python 3 (ipykernel)",
   "language": "python",
   "name": "python3"
  },
  "language_info": {
   "codemirror_mode": {
    "name": "ipython",
    "version": 3
   },
   "file_extension": ".py",
   "mimetype": "text/x-python",
   "name": "python",
   "nbconvert_exporter": "python",
   "pygments_lexer": "ipython3",
   "version": "3.9.13"
  }
 },
 "nbformat": 4,
 "nbformat_minor": 5
}
