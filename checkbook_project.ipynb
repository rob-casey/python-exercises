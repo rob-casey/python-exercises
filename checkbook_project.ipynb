{
 "cells": [
  {
   "cell_type": "code",
   "execution_count": null,
   "id": "9f742098",
   "metadata": {},
   "outputs": [],
   "source": [
    "with open('checkbook_csv.csv', 'w') as f:"
   ]
  },
  {
   "cell_type": "code",
   "execution_count": null,
   "id": "d921d502",
   "metadata": {},
   "outputs": [],
   "source": [
    "#     1) view current balance\n",
    "#     2) record a debit (withdraw)\n",
    "#     3) record a credit (deposit)\n",
    "#     4) exit"
   ]
  },
  {
   "cell_type": "code",
   "execution_count": 1,
   "id": "2e8fb2c2",
   "metadata": {},
   "outputs": [
    {
     "name": "stdout",
     "output_type": "stream",
     "text": [
      "~~~ Welcome to your terminal checkbook! ~~~\n",
      " \n",
      "What would you like to do?\n",
      " \n",
      "1) view current balance\n",
      "2) record a debit (withdraw)\n",
      "3) record a credit (deposit)\n",
      "4) exit\n",
      " \n",
      "Your choice? 4\n",
      "Thanks, have a great day!\n"
     ]
    }
   ],
   "source": [
    "class checking_account:\n",
    "\n",
    "    def __init__(self):\n",
    "        self.balance = 100.00\n",
    "\n",
    "    def debit(self, amount):\n",
    "        self.balance -= amount\n",
    "        return self.balance\n",
    "\n",
    "    def credit(self, amount):\n",
    "        self.balance += amount\n",
    "        return self.balance\n",
    "\n",
    "checking = checking_account()\n",
    "\n",
    "\n",
    "print(\"~~~ Welcome to your terminal checkbook! ~~~\")\n",
    "print(' ')\n",
    "print(\"What would you like to do?\")\n",
    "print(' ')\n",
    "\n",
    "while True:\n",
    "    print(\"1) view current balance\")\n",
    "    print(\"2) record a debit (withdraw)\")\n",
    "    print(\"3) record a credit (deposit)\")\n",
    "    print(\"4) exit\")\n",
    "    print(' ')\n",
    "    choice = int(input(\"Your choice? \"))\n",
    "    \n",
    "    if choice == 1:\n",
    "        print(\"Your current balance is: \", checking.balance)\n",
    "    elif choice == 2:\n",
    "        amount = float(input(\"How much are you spending?: \"))\n",
    "        print(\"Your remaining checking balance is: \", checking.debit(amount))\n",
    "    elif choice == 3:\n",
    "        amount = float(input(\"How much are you depositing?: \"))\n",
    "        print(\"Your new checking balance is: \", checking.credit(amount))\n",
    "    elif choice == 4:\n",
    "        print(\"Thanks, have a great day!\")\n",
    "        break\n",
    "    else:\n",
    "        print(\"Invalid choice. Try again.\")"
   ]
  }
 ],
 "metadata": {
  "kernelspec": {
   "display_name": "Python 3 (ipykernel)",
   "language": "python",
   "name": "python3"
  },
  "language_info": {
   "codemirror_mode": {
    "name": "ipython",
    "version": 3
   },
   "file_extension": ".py",
   "mimetype": "text/x-python",
   "name": "python",
   "nbconvert_exporter": "python",
   "pygments_lexer": "ipython3",
   "version": "3.9.13"
  }
 },
 "nbformat": 4,
 "nbformat_minor": 5
}
