{
 "cells": [
  {
   "cell_type": "code",
   "execution_count": 1,
   "id": "06ed869f",
   "metadata": {},
   "outputs": [
    {
     "data": {
      "text/plain": [
       "7"
      ]
     },
     "execution_count": 1,
     "metadata": {},
     "output_type": "execute_result"
    }
   ],
   "source": [
    "3 + 4"
   ]
  },
  {
   "cell_type": "markdown",
   "id": "fdfa18a3",
   "metadata": {},
   "source": [
    "### This is for Markdown\n",
    "\n",
    "### Heading\n",
    "\n",
    "\n",
    "- List item 1\n",
    "- List item 2"
   ]
  },
  {
   "cell_type": "markdown",
   "id": "032018e9",
   "metadata": {},
   "source": []
  },
  {
   "cell_type": "code",
   "execution_count": null,
   "id": "98b80c5a",
   "metadata": {},
   "outputs": [],
   "source": []
  },
  {
   "cell_type": "code",
   "execution_count": 3,
   "id": "bb7d7b1d",
   "metadata": {},
   "outputs": [
    {
     "ename": "NameError",
     "evalue": "name 'ESC' is not defined",
     "output_type": "error",
     "traceback": [
      "\u001b[0;31m---------------------------------------------------------------------------\u001b[0m",
      "\u001b[0;31mNameError\u001b[0m                                 Traceback (most recent call last)",
      "Input \u001b[0;32mIn [3]\u001b[0m, in \u001b[0;36m<cell line: 2>\u001b[0;34m()\u001b[0m\n\u001b[1;32m      1\u001b[0m \u001b[38;5;66;03m### New Cell after current cell\u001b[39;00m\n\u001b[0;32m----> 2\u001b[0m \u001b[43mESC\u001b[49m \u001b[38;5;241m+\u001b[39m B\n\u001b[1;32m      4\u001b[0m \u001b[38;5;66;03m### New Cell before current cell\u001b[39;00m\n\u001b[1;32m      5\u001b[0m ESC \u001b[38;5;241m+\u001b[39m A\n",
      "\u001b[0;31mNameError\u001b[0m: name 'ESC' is not defined"
     ]
    }
   ],
   "source": [
    "### New Cell after current cell\n",
    "ESC + B\n",
    "\n",
    "### New Cell before current cell\n",
    "ESC + A"
   ]
  },
  {
   "cell_type": "code",
   "execution_count": null,
   "id": "4ffec4cf",
   "metadata": {},
   "outputs": [],
   "source": []
  }
 ],
 "metadata": {
  "kernelspec": {
   "display_name": "Python 3 (ipykernel)",
   "language": "python",
   "name": "python3"
  },
  "language_info": {
   "codemirror_mode": {
    "name": "ipython",
    "version": 3
   },
   "file_extension": ".py",
   "mimetype": "text/x-python",
   "name": "python",
   "nbconvert_exporter": "python",
   "pygments_lexer": "ipython3",
   "version": "3.9.13"
  }
 },
 "nbformat": 4,
 "nbformat_minor": 5
}
