{
 "cells": [
  {
   "cell_type": "code",
   "execution_count": 1,
   "id": "0d2a334a",
   "metadata": {},
   "outputs": [],
   "source": [
    "def get_letter_grade(my_num_grade):\n",
    "    if my_num_grade >= 90:\n",
    "        return 'A'\n",
    "    elif my_num_grade >= 80:\n",
    "        return 'B'\n",
    "    elif my_num_grade >= 70:\n",
    "        return 'C'\n",
    "    else:\n",
    "        return 'F'"
   ]
  }
 ],
 "metadata": {
  "kernelspec": {
   "display_name": "Python 3 (ipykernel)",
   "language": "python",
   "name": "python3"
  },
  "language_info": {
   "codemirror_mode": {
    "name": "ipython",
    "version": 3
   },
   "file_extension": ".py",
   "mimetype": "text/x-python",
   "name": "python",
   "nbconvert_exporter": "python",
   "pygments_lexer": "ipython3",
   "version": "3.9.13"
  }
 },
 "nbformat": 4,
 "nbformat_minor": 5
}
