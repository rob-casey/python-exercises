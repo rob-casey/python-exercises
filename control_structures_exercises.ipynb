{
 "cells": [
  {
   "cell_type": "code",
   "execution_count": null,
   "id": "cd380e61",
   "metadata": {},
   "outputs": [],
   "source": [
    "#1.a"
   ]
  },
  {
   "cell_type": "code",
   "execution_count": null,
   "id": "f33d4baf",
   "metadata": {},
   "outputs": [],
   "source": [
    "day_of_week = input(\"Which day of the week? (Monday - Sunday) \")\n",
    "if day_of_week == 'Monday':\n",
    "    print(\"Today is indeed Monday.\")\n",
    "else:\n",
    "    print(\"Today is definitely not Monday.\")"
   ]
  },
  {
   "cell_type": "code",
   "execution_count": null,
   "id": "be42f8d6",
   "metadata": {},
   "outputs": [],
   "source": [
    "1.b"
   ]
  },
  {
   "cell_type": "code",
   "execution_count": null,
   "id": "5d6bcb79",
   "metadata": {},
   "outputs": [],
   "source": [
    "which_day = input(\"Which day of the week? (Monday - Sunday) \")\n",
    "if which_day == 'Sunday':\n",
    "    print(\"It's the weekend!\")\n",
    "else:\n",
    "    print(\"Weekday\")"
   ]
  },
  {
   "cell_type": "code",
   "execution_count": null,
   "id": "f2728e6f",
   "metadata": {},
   "outputs": [],
   "source": [
    "1.c"
   ]
  },
  {
   "cell_type": "code",
   "execution_count": null,
   "id": "32638ea1",
   "metadata": {},
   "outputs": [],
   "source": [
    "hours_week = 50\n",
    "hourly_rate = 20\n",
    "weekly_paycheck = hours_week * hourly_rate\n",
    "weekly_paycheck = weekly_paycheck + (hours_week - 40) * (hourly_rate * 1.5)\n",
    "weekly_paycheck"
   ]
  },
  {
   "cell_type": "code",
   "execution_count": null,
   "id": "f76d7765",
   "metadata": {},
   "outputs": [],
   "source": [
    "2.a"
   ]
  },
  {
   "cell_type": "code",
   "execution_count": null,
   "id": "d76ccf3c",
   "metadata": {},
   "outputs": [],
   "source": [
    "i = 5\n",
    "while i <= 15:\n",
    "    print(i)\n",
    "    i += 1 "
   ]
  },
  {
   "cell_type": "code",
   "execution_count": null,
   "id": "e7cb47b6",
   "metadata": {
    "scrolled": true
   },
   "outputs": [],
   "source": [
    "i = 0\n",
    "while i < 100:\n",
    "    print(i)\n",
    "    i += 2"
   ]
  },
  {
   "cell_type": "code",
   "execution_count": null,
   "id": "a8257330",
   "metadata": {
    "scrolled": false
   },
   "outputs": [],
   "source": [
    "i = 100\n",
    "while i in range(-10,101):\n",
    "    print(i)\n",
    "    i -= 5"
   ]
  },
  {
   "cell_type": "code",
   "execution_count": null,
   "id": "13931a95",
   "metadata": {},
   "outputs": [],
   "source": [
    "# Create a while loop that starts at 2, \n",
    "# and displays the number squared on each line while the number is less than 1,000,000. "
   ]
  },
  {
   "cell_type": "code",
   "execution_count": null,
   "id": "1e68b6b5",
   "metadata": {},
   "outputs": [],
   "source": [
    "i = 2\n",
    "while i < 1000000:\n",
    "    print(i)\n",
    "    i **= 2"
   ]
  },
  {
   "cell_type": "code",
   "execution_count": null,
   "id": "d73487da",
   "metadata": {},
   "outputs": [],
   "source": []
  },
  {
   "cell_type": "code",
   "execution_count": null,
   "id": "97cfa27f",
   "metadata": {},
   "outputs": [],
   "source": [
    "## Write a loop that uses print to create the output shown below."
   ]
  },
  {
   "cell_type": "code",
   "execution_count": null,
   "id": "495d291a",
   "metadata": {
    "scrolled": true
   },
   "outputs": [],
   "source": [
    "i = 100\n",
    "while i in range(5,101):\n",
    "    print(i)\n",
    "    i -= 5while i < 1000000:\n",
    "    print(i)\n",
    "    i **= 2"
   ]
  },
  {
   "cell_type": "code",
   "execution_count": null,
   "id": "7fbc4a92",
   "metadata": {},
   "outputs": [],
   "source": [
    "# For Loops\n",
    "# Write some code that prompts the user for a number, \n",
    "# then shows a multiplication table up through 10 for that number."
   ]
  },
  {
   "cell_type": "code",
   "execution_count": 26,
   "id": "790bbffa",
   "metadata": {},
   "outputs": [
    {
     "name": "stdout",
     "output_type": "stream",
     "text": [
      "Enter a number i.e. 2, 19, -100: 7\n",
      "7  x  1  =  7\n",
      "7  x  2  =  14\n",
      "7  x  3  =  21\n",
      "7  x  4  =  28\n",
      "7  x  5  =  35\n",
      "7  x  6  =  42\n",
      "7  x  7  =  49\n",
      "7  x  8  =  56\n",
      "7  x  9  =  63\n",
      "7  x  10  =  70\n"
     ]
    }
   ],
   "source": [
    "n = input('Enter a number i.e. 2, 19, -100: ')\n",
    "n = int(n)\n",
    "for i in range(1,11):\n",
    "\tmultiply = i * n\n",
    "\tprint(n,' x ', i, ' = ', multiply)\n",
    "\ti += 1"
   ]
  },
  {
   "cell_type": "code",
   "execution_count": null,
   "id": "477e3d2f",
   "metadata": {},
   "outputs": [],
   "source": [
    "1\n",
    "22\n",
    "333\n",
    "4444\n",
    "55555\n",
    "666666\n",
    "7777777\n",
    "88888888\n",
    "999999999"
   ]
  },
  {
   "cell_type": "code",
   "execution_count": 27,
   "id": "a80fe327",
   "metadata": {},
   "outputs": [
    {
     "name": "stdout",
     "output_type": "stream",
     "text": [
      "1\n",
      "22\n",
      "333\n",
      "4444\n",
      "55555\n",
      "666666\n",
      "7777777\n",
      "88888888\n",
      "999999999\n"
     ]
    }
   ],
   "source": [
    "for i in range(1,10):\n",
    "    print(i * str(i))"
   ]
  },
  {
   "cell_type": "code",
   "execution_count": null,
   "id": "b573924f",
   "metadata": {},
   "outputs": [],
   "source": []
  },
  {
   "cell_type": "code",
   "execution_count": 35,
   "id": "c91443a5",
   "metadata": {},
   "outputs": [
    {
     "name": "stdout",
     "output_type": "stream",
     "text": [
      "Enter positive integer: 9\n",
      "True\n",
      "0\n",
      "1\n",
      "2\n",
      "3\n",
      "4\n",
      "5\n",
      "6\n",
      "7\n",
      "8\n",
      "9\n"
     ]
    }
   ],
   "source": [
    "# Write a program that prompts the user for a positive integer.\n",
    "\n",
    "# Prompt the user to enter a positive number and \n",
    "# write a loop that counts from 0 to that number. \n",
    "\n",
    "countup = input(\"Enter positive integer: \")\n",
    "print(countup.isdigit())\n",
    "countup = int(countup)\n",
    "i = countup\n",
    "for i in range(0, countup + 1):\n",
    "    print(i)\n",
    "    i += 1"
   ]
  },
  {
   "cell_type": "code",
   "execution_count": 38,
   "id": "9d90bb33",
   "metadata": {},
   "outputs": [
    {
     "name": "stdout",
     "output_type": "stream",
     "text": [
      "Enter positive integer: 9\n",
      "True\n",
      "9\n",
      "8\n",
      "7\n",
      "6\n",
      "5\n",
      "4\n",
      "3\n",
      "2\n",
      "1\n"
     ]
    }
   ],
   "source": [
    "# Next write a loop that prints out the numbers from the number the user entered down to 1.\n",
    "# .isdigit: test whether or not the string is a number\n",
    "\n",
    "countdown = input(\"Enter positive integer: \") # number entered\n",
    "print(countdown.isdigit()) # assigns boolean value\n",
    "countdown = int(countdown) # Takes object as an argument and returns the object's type\n",
    "i = countdown # assigns user's number into a variable\n",
    "while i in range(1, countdown + 1):\n",
    "    print(i)\n",
    "    i -= 1"
   ]
  },
  {
   "cell_type": "code",
   "execution_count": null,
   "id": "356bec72",
   "metadata": {},
   "outputs": [],
   "source": []
  },
  {
   "cell_type": "code",
   "execution_count": null,
   "id": "d6ed3e48",
   "metadata": {},
   "outputs": [],
   "source": []
  },
  {
   "cell_type": "code",
   "execution_count": null,
   "id": "fcee8deb",
   "metadata": {},
   "outputs": [],
   "source": []
  },
  {
   "cell_type": "code",
   "execution_count": null,
   "id": "9e1066df",
   "metadata": {},
   "outputs": [],
   "source": []
  },
  {
   "cell_type": "code",
   "execution_count": null,
   "id": "b1475a99",
   "metadata": {},
   "outputs": [],
   "source": []
  },
  {
   "cell_type": "code",
   "execution_count": null,
   "id": "197f1d8f",
   "metadata": {},
   "outputs": [],
   "source": []
  },
  {
   "cell_type": "code",
   "execution_count": null,
   "id": "ebd8bfde",
   "metadata": {},
   "outputs": [],
   "source": []
  },
  {
   "cell_type": "code",
   "execution_count": null,
   "id": "3741f283",
   "metadata": {},
   "outputs": [],
   "source": []
  },
  {
   "cell_type": "code",
   "execution_count": null,
   "id": "52fcdc23",
   "metadata": {},
   "outputs": [],
   "source": []
  }
 ],
 "metadata": {
  "kernelspec": {
   "display_name": "Python 3 (ipykernel)",
   "language": "python",
   "name": "python3"
  },
  "language_info": {
   "codemirror_mode": {
    "name": "ipython",
    "version": 3
   },
   "file_extension": ".py",
   "mimetype": "text/x-python",
   "name": "python",
   "nbconvert_exporter": "python",
   "pygments_lexer": "ipython3",
   "version": "3.9.13"
  }
 },
 "nbformat": 4,
 "nbformat_minor": 5
}
