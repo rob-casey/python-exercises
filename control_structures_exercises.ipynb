{
 "cells": [
  {
   "cell_type": "code",
   "execution_count": null,
   "id": "cd380e61",
   "metadata": {},
   "outputs": [],
   "source": [
    "# Prompt the user to enter a genre, \n",
    "# then loop through your books list and print out the titles of \n",
    "# all the books in that genre.# Conditional Basics\n",
    "# Prompt the user for a day of the week, print out whether the day is Monday or not"
   ]
  },
  {
   "cell_type": "code",
   "execution_count": null,
   "id": "f33d4baf",
   "metadata": {},
   "outputs": [],
   "source": [
    "day_of_week = input(\"Which day of the week? (Monday - Sunday) \")\n",
    "if day_of_week == 'Monday':\n",
    "    print(\"Today is indeed Monday.\")\n",
    "else:\n",
    "    print(\"Today is definitely not Monday.\")"
   ]
  },
  {
   "cell_type": "code",
   "execution_count": null,
   "id": "be42f8d6",
   "metadata": {},
   "outputs": [],
   "source": [
    "# Prompt the user for a day of the week, print out whether the day is a weekday or a weekend"
   ]
  },
  {
   "cell_type": "code",
   "execution_count": null,
   "id": "5d6bcb79",
   "metadata": {},
   "outputs": [],
   "source": [
    "which_day = input(\"Which day of the week? (Monday - Sunday) \")\n",
    "if which_day == 'Sunday':\n",
    "    print(\"It's the weekend!\")\n",
    "elif which_day == 'Saturday':\n",
    "    print(\"It's the weekend!\")\n",
    "else:\n",
    "    print(\"Weekday\")"
   ]
  },
  {
   "cell_type": "code",
   "execution_count": null,
   "id": "f2728e6f",
   "metadata": {},
   "outputs": [],
   "source": [
    "# Create variables and make up values for\n",
    "# The number of hours worked in one week\n",
    "# The hourly rate\n",
    "# How much the week's paycheck will be\n",
    "# Write the python code that calculates the weekly paycheck. \n",
    "# You get paid time and a half if you work more than 40 hours."
   ]
  },
  {
   "cell_type": "code",
   "execution_count": null,
   "id": "32638ea1",
   "metadata": {},
   "outputs": [],
   "source": [
    "hours_week = 50\n",
    "hourly_rate = 20\n",
    "weekly_paycheck = hours_week * hourly_rate\n",
    "# 1000.00 per weekly paycheck with 40.0 hours\n",
    "\n",
    "weekly_paycheck_extra = weekly_paycheck + (hours_week - 40) * (hourly_rate * 1.5)\n",
    "weekly_paycheck_extra"
   ]
  },
  {
   "cell_type": "code",
   "execution_count": null,
   "id": "f76d7765",
   "metadata": {},
   "outputs": [],
   "source": [
    "# While Loops\n",
    "# Create an integer variable i with a value of 5. \n",
    "# Create a while loop that runs so long as i is less than or equal to 15. \n",
    "# Each loop iteration, output the current value of i, then increment i by one."
   ]
  },
  {
   "cell_type": "code",
   "execution_count": null,
   "id": "d76ccf3c",
   "metadata": {},
   "outputs": [],
   "source": [
    "i = 5\n",
    "while i <= 15:\n",
    "    print(i)\n",
    "    i += 1 "
   ]
  },
  {
   "cell_type": "code",
   "execution_count": null,
   "id": "37769509",
   "metadata": {},
   "outputs": [],
   "source": [
    "# Create a while loop that will count by 2's starting with 0 and ending at 100. \n",
    "# Follow each number with a new line."
   ]
  },
  {
   "cell_type": "code",
   "execution_count": null,
   "id": "e7cb47b6",
   "metadata": {
    "scrolled": true
   },
   "outputs": [],
   "source": [
    "i = 0\n",
    "while i < 100:\n",
    "    print(i)\n",
    "    print(' ')\n",
    "    i += 2"
   ]
  },
  {
   "cell_type": "code",
   "execution_count": null,
   "id": "d14aed53",
   "metadata": {},
   "outputs": [],
   "source": [
    "# Alter your loop to count backwards by 5's from 100 to -10"
   ]
  },
  {
   "cell_type": "code",
   "execution_count": null,
   "id": "a8257330",
   "metadata": {
    "scrolled": false
   },
   "outputs": [],
   "source": [
    "i = 100\n",
    "while i in range(-10,101):\n",
    "    print(i)\n",
    "    i -= 5"
   ]
  },
  {
   "cell_type": "code",
   "execution_count": null,
   "id": "13931a95",
   "metadata": {},
   "outputs": [],
   "source": [
    "# Create a while loop that starts at 2, \n",
    "# and displays the number squared on each line while the number is less than 1,000,000. "
   ]
  },
  {
   "cell_type": "code",
   "execution_count": null,
   "id": "1e68b6b5",
   "metadata": {},
   "outputs": [],
   "source": [
    "i = 2\n",
    "while i < 1000000:\n",
    "    print(i)\n",
    "    i **= 2"
   ]
  },
  {
   "cell_type": "code",
   "execution_count": null,
   "id": "97cfa27f",
   "metadata": {},
   "outputs": [],
   "source": [
    "## Write a loop that uses print to create the output shown below.\n",
    "# 100\n",
    "# 95\n",
    "# 90\n",
    "# 85\n",
    "# 80\n",
    "# 75\n",
    "# 70\n",
    "# 65\n",
    "# 60\n",
    "# 55\n",
    "# 50\n",
    "# 45\n",
    "# 40\n",
    "# 35\n",
    "# 30\n",
    "# 25\n",
    "# 20\n",
    "# 15\n",
    "# 10\n",
    "# 5"
   ]
  },
  {
   "cell_type": "code",
   "execution_count": null,
   "id": "495d291a",
   "metadata": {
    "scrolled": true
   },
   "outputs": [],
   "source": [
    "i = 100\n",
    "while i in range(5, 101):\n",
    "    print(i)\n",
    "    i -= 5"
   ]
  },
  {
   "cell_type": "code",
   "execution_count": null,
   "id": "7fbc4a92",
   "metadata": {},
   "outputs": [],
   "source": [
    "# For Loops\n",
    "# Write some code that prompts the user for a number, \n",
    "# then shows a multiplication table up through 10 for that number."
   ]
  },
  {
   "cell_type": "code",
   "execution_count": null,
   "id": "790bbffa",
   "metadata": {},
   "outputs": [],
   "source": [
    "n = input('Enter a number i.e. 2, 19, -100: ')\n",
    "n = int(n)\n",
    "for i in range(1,11):\n",
    "\tmultiply = i * n\n",
    "\tprint(n,' x ', i, ' = ', multiply)\n",
    "\ti += 1"
   ]
  },
  {
   "cell_type": "code",
   "execution_count": null,
   "id": "a80fe327",
   "metadata": {},
   "outputs": [],
   "source": [
    "for i in range(1,10):\n",
    "    print(i * str(i))"
   ]
  },
  {
   "cell_type": "code",
   "execution_count": null,
   "id": "04bf8a9e",
   "metadata": {},
   "outputs": [],
   "source": [
    "# Write a program that prompts the user for a positive integer. \n",
    "# Next write a loop that prints out the numbers from the number the user entered down to 1.\n",
    "\n",
    "# range ~ continue statement\n",
    " \n",
    "while True:\n",
    "    num = input(\"Enter positive integer: \")\n",
    "    \n",
    "    if num.isdigit() == True:\n",
    "        print(\"Good job. A digit!\")\n",
    "        if int(num) > 0: \n",
    "            print(\"Well done. Positively!\")\n",
    "            break\n",
    "\n",
    "int_num = int(num)\n",
    "for i in range(int_num, 0, -1):\n",
    "    print(i)\n",
    "#         print('This is a string, not an integer, nerd')\n",
    "#         break\n",
    "\n",
    "# for i in range(0, countdown + 1, -1):\n",
    "#     print(i)"
   ]
  },
  {
   "cell_type": "code",
   "execution_count": null,
   "id": "31fa20e3",
   "metadata": {},
   "outputs": [],
   "source": [
    "# Write a program that prompts the user for a positive integer.\n",
    "\n",
    "# Prompt the user to enter a positive number and \n",
    "# write a loop that counts from 0 to that number. \n",
    "\n",
    "while True:\n",
    "    num = input(\"Enter positive integer: \")\n",
    "    \n",
    "    if num.isdigit() == True:\n",
    "        print(\"Good job. A digit!\")\n",
    "        if int(num) > 0: \n",
    "            print(\"Well done. Positively!\")\n",
    "            break\n",
    "\n",
    "int_num = int(num)\n",
    "for i in range(0, int_num + 1, +1):\n",
    "    print(i)"
   ]
  },
  {
   "cell_type": "code",
   "execution_count": null,
   "id": "c9507e46",
   "metadata": {},
   "outputs": [],
   "source": [
    "# Prompt the user for an odd number between 1 and 50. \n",
    "# Use a loop and a break statement to continue \n",
    "# prompting the user if they enter invalid input. \n",
    "# (Hint: use the isdigit method on strings to determine this). \n",
    "\n",
    "# Use a loop and the continue statement to output all the \n",
    "# odd numbers between 1 and 50, except for the number the user entered."
   ]
  },
  {
   "cell_type": "code",
   "execution_count": null,
   "id": "3fafdeb4",
   "metadata": {},
   "outputs": [],
   "source": [
    "# We want a user to enter a number between 1 - 50\n",
    "# Number must be odd\n",
    "# When you have right number, use a loop to print all odd numbers\n",
    "# unless it's the number the user input\n",
    "# in which case we \"skip\""
   ]
  },
  {
   "cell_type": "code",
   "execution_count": null,
   "id": "b4c1f031",
   "metadata": {},
   "outputs": [],
   "source": [
    "# two tasks: build loop that prints odd number\n",
    "# buildan inquiry loop that will ask for the right information"
   ]
  },
  {
   "cell_type": "code",
   "execution_count": null,
   "id": "16da916a",
   "metadata": {},
   "outputs": [],
   "source": [
    "# task 1: build a loop that constructs prints\n",
    "# for all odd numbers in a range\n",
    "# but throws an exception in the case that its a\n",
    "# specific selected number (if statement)"
   ]
  },
  {
   "cell_type": "code",
   "execution_count": null,
   "id": "cd519fcb",
   "metadata": {},
   "outputs": [],
   "source": [
    "user_input = 9\n",
    "for i in range(1, 50 + 1, 2):\n",
    "    # print(i)\n",
    "    if i == user_input:\n",
    "        #continue would skip the next print statement?\n",
    "        print(\"Yikes!\")\n",
    "    else:\n",
    "        print(i)\n",
    "# Built from inside and start working out, continue prompting user\n",
    "# until they meet the parameters (while)"
   ]
  },
  {
   "cell_type": "code",
   "execution_count": null,
   "id": "3218da2f",
   "metadata": {},
   "outputs": [],
   "source": [
    "# specific case:\n",
    "# if the number in this loop is the one the user inputted\n",
    "# skip that number (do something else)\n",
    "\n",
    "# otherwise the loop is printing numbers 1-50"
   ]
  },
  {
   "cell_type": "code",
   "execution_count": null,
   "id": "4491eb35",
   "metadata": {},
   "outputs": [],
   "source": [
    "while True:\n",
    "    user_input = input('''\n",
    "    Please input an odd numbers\n",
    "    between 1 and 50:  ''')\n",
    "    if user_input.isdigit(): # check to see if there's a number in string\n",
    "        user_num = int(user_input)\n",
    "        if (0 < user_num < 50) \\\n",
    "        and user_num % 2 == 1:\n",
    "            break\n",
    "#         user_input = float(user_input) # checking equivalency to ensure float() doesnt break code\n",
    "#         if user_input == int(user_num): # not reassigning\n",
    "# can use question mark str.isdigit?"
   ]
  },
  {
   "cell_type": "code",
   "execution_count": 24,
   "id": "518d4876",
   "metadata": {},
   "outputs": [
    {
     "name": "stdout",
     "output_type": "stream",
     "text": [
      "\n",
      "    Please input an odd numbers\n",
      "    between 1 and 50:  18\n",
      "\n",
      "    Please input an odd numbers\n",
      "    between 1 and 50:  17\n",
      "1\n",
      "3\n",
      "5\n",
      "7\n",
      "9\n",
      "11\n",
      "13\n",
      "15\n",
      "Yiiiiikes!\n",
      "19\n",
      "21\n",
      "23\n",
      "25\n",
      "27\n",
      "29\n",
      "31\n",
      "33\n",
      "35\n",
      "37\n",
      "39\n",
      "41\n",
      "43\n",
      "45\n",
      "47\n",
      "49\n"
     ]
    }
   ],
   "source": [
    "while True:\n",
    "    user_input = input('''\n",
    "    Please input an odd numbers\n",
    "    between 1 and 50:  ''')\n",
    "    if user_input.isdigit(): # check to see if there's a number in string\n",
    "        user_num = int(user_input)\n",
    "        if (0 < user_num < 50) \\\n",
    "        and user_num % 2 == 1:\n",
    "            break\n",
    "\n",
    "user_input = int(user_input)\n",
    "for i in range(1, 50 + 1, 2):\n",
    "    # print(i)\n",
    "    if i == user_input:\n",
    "        print(\"Yiiiiikes!\")\n",
    "    else:                    #continue would skip the next print statement?\n",
    "        print(i)"
   ]
  },
  {
   "cell_type": "code",
   "execution_count": null,
   "id": "68cc23ad",
   "metadata": {},
   "outputs": [],
   "source": [
    "# One of the most common interview questions for entry-level programmers \n",
    "# is the FizzBuzz test. \n",
    "# Developed by Imran Ghory, the test is designed to test \n",
    "# basic looping and conditional logic skills.\n",
    "\n",
    "# Write a program that prints the numbers from 1 to 100.\n",
    "\n",
    "for x in range(1, 101, 1):\n",
    "    print(x)"
   ]
  },
  {
   "cell_type": "code",
   "execution_count": null,
   "id": "5b128943",
   "metadata": {
    "scrolled": true
   },
   "outputs": [],
   "source": [
    "# For multiples of three print \"Fizz\" instead of the number\n",
    "\n",
    "# For the multiples of five print \"Buzz\".\n",
    "\n",
    "# For numbers which are multiples of both three and five print \"FizzBuzz\".\n",
    "\n",
    "\n",
    "\n",
    "for i in range(1, 101, 1):\n",
    "    if i % 3 == 0 and i % 5 == 0:\n",
    "        print('FizzBuzz')\n",
    "    elif i % 3 == 0:\n",
    "        print(\"Fizz\")\n",
    "    elif i % 5 == 0:\n",
    "        print(\"Buzz\")\n",
    "    else:\n",
    "        print(i)"
   ]
  },
  {
   "cell_type": "code",
   "execution_count": null,
   "id": "182c9595",
   "metadata": {},
   "outputs": [],
   "source": [
    "# Display a table of powers.\n",
    "# Prompt the user to enter an integer\n",
    "# Display a table of squares and cubes from 1 to the value entered\n",
    "# Ask if the user wants to continue\n",
    "# Assume that the user will enter valid data\n",
    "# Only continue if the user agrees to."
   ]
  },
  {
   "cell_type": "code",
   "execution_count": null,
   "id": "405d4ddc",
   "metadata": {},
   "outputs": [],
   "source": [
    "# What number would you like to go up to? 5\n",
    "\n",
    "# Here is your table!\n",
    "\n",
    "# number | squared | cubed\n",
    "# ------ | ------- | -----\n",
    "# 1      | 1       | 1\n",
    "# 2      | 4       | 8\n",
    "# 3      | 9       | 27\n",
    "# 4      | 16      | 64\n",
    "# 5      | 25      | 125"
   ]
  },
  {
   "cell_type": "code",
   "execution_count": null,
   "id": "556c037e",
   "metadata": {},
   "outputs": [],
   "source": [
    "print('number | squared | cubed')\n",
    "print('------ | ------- | -----')\n",
    "print('|')"
   ]
  },
  {
   "cell_type": "code",
   "execution_count": null,
   "id": "31b2a555",
   "metadata": {},
   "outputs": [],
   "source": []
  },
  {
   "cell_type": "code",
   "execution_count": null,
   "id": "8e4e3fb3",
   "metadata": {},
   "outputs": [],
   "source": []
  },
  {
   "cell_type": "code",
   "execution_count": null,
   "id": "fcee8deb",
   "metadata": {},
   "outputs": [],
   "source": [
    "# Convert given number grades into letter grades.\n",
    "# Prompt the user for a numerical grade from 0 to 100\n",
    "# Display the corresponding letter grade\n",
    "# Prompt the user to continue\n",
    "# Assume that the user will enter valid integers for the grades\n",
    "# The application should only continue if the user agrees to\n",
    "# Grade Ranges:\n",
    "# A : 100 - 88\n",
    "# B : 87 - 80\n",
    "# C : 79 - 67\n",
    "# D : 66 - 60\n",
    "# F : 59 - 0\n",
    "\n",
    "# enter number for user_grade\n",
    "\n",
    "# user_grade = 90\n",
    "\n",
    "while True:\n",
    "    user_grade = int(input(\"Enter a numerical grade from 0-100: \"))\n",
    "\n",
    "# set up cases using 'if' and 'elif'\n",
    "\n",
    "    if user_grade >= 88:\n",
    "        print(\"A\")\n",
    "\n",
    "    elif user_grade >= 80:\n",
    "        print(\"B\")\n",
    "\n",
    "    elif user_grade >= 67:\n",
    "        print(\"C\")\n",
    "\n",
    "    elif user_grade >= 60:\n",
    "        print(\"D\")\n",
    "        \n",
    "    else:\n",
    "        print(\"F\")\n",
    "        \n",
    "    user_response = input(\"Would you like to continue?  (y/n)\\n\")\n",
    "    ## Compare the lowercase version if the string\n",
    "    ## Check if the response is not yes\n",
    "    if user_response.lower() != 'y':\n",
    "        break\n",
    "    "
   ]
  },
  {
   "cell_type": "code",
   "execution_count": null,
   "id": "b1475a99",
   "metadata": {},
   "outputs": [],
   "source": []
  },
  {
   "cell_type": "code",
   "execution_count": 14,
   "id": "197f1d8f",
   "metadata": {},
   "outputs": [
    {
     "data": {
      "text/plain": [
       "[{'title': 'Harry', 'author': 'Her', 'genre': 'Wiz'},\n",
       " {'title': 'Potter', 'author': 'Her', 'genre': 'Wiz'},\n",
       " {'title': 'Game', 'author': 'Him', 'genre': 'Dragon'},\n",
       " {'title': 'Throne', 'author': 'Him', 'genre': 'Dragon'}]"
      ]
     },
     "execution_count": 14,
     "metadata": {},
     "output_type": "execute_result"
    }
   ],
   "source": [
    "# Create a list of dictionaries where each dictionary \n",
    "# represents a book that you have read. \n",
    "# Each dictionary in the list should have the \n",
    "# keys title, author, and genre. \n",
    "\n",
    "[dict(title='Harry', author='Her', genre='Wiz'),\n",
    "dict(title='Potter', author='Her', genre='Wiz'),\n",
    "dict(title='Game', author='Him', genre='Dragon'),\n",
    "dict(title='Throne', author='Him', genre='Dragon')]"
   ]
  },
  {
   "cell_type": "code",
   "execution_count": 21,
   "id": "41592b63",
   "metadata": {
    "scrolled": true
   },
   "outputs": [
    {
     "name": "stdout",
     "output_type": "stream",
     "text": [
      "The book's title is: Harry\n",
      "The book's author is: Her\n",
      "The book's genre is: Wiz\n",
      " \n",
      "The book's title is: Potter\n",
      "The book's author is: Her\n",
      "The book's genre is: Wiz\n",
      " \n",
      "The book's title is: Game\n",
      "The book's author is: Him\n",
      "The book's genre is: Dragon\n",
      " \n",
      "The book's title is: Throne\n",
      "The book's author is: Him\n",
      "The book's genre is: Dragon\n",
      " \n"
     ]
    }
   ],
   "source": [
    "# Loop through the list and print out information about each book.\n",
    "\n",
    "for book in book_dict:\n",
    "    print(\"The book's title is: \" + book['title'])\n",
    "    print(\"The book's author is: \" + book['author'])\n",
    "    print(\"The book's genre is: \" + book['genre'])\n",
    "    print(' ')"
   ]
  },
  {
   "cell_type": "code",
   "execution_count": null,
   "id": "67790f61",
   "metadata": {},
   "outputs": [],
   "source": [
    "book_dict =[dict(title='Harry', author='Her', genre='Wiz'),\n",
    "             dict(title='Potter', author='Her', genre='Wiz'),\n",
    "             dict(title='Game', author='Him', genre='Dragon'),\n",
    "             dict(title='Throne', author='Him', genre='Dragon')]"
   ]
  },
  {
   "cell_type": "code",
   "execution_count": 20,
   "id": "b9828f6e",
   "metadata": {},
   "outputs": [
    {
     "name": "stdout",
     "output_type": "stream",
     "text": [
      "Please enter a genre: Dragon\n",
      "Pick a different genre.\n",
      "Pick a different genre.\n",
      "Pick a different genre.\n",
      "Pick a different genre.\n"
     ]
    }
   ],
   "source": [
    "# Prompt the user to enter a genre, \n",
    "# then loop through your books list and print out the titles of \n",
    "# all the books in that genre.\n",
    "\n",
    "book_dict=[{'title': 'Harry', 'author': 'Her', 'genre': 'Wiz'},\n",
    " {'title': 'Potter', 'author': 'Her', 'genre': 'Wiz'},\n",
    " {'title': 'Game', 'author': 'Him', 'genre': 'Dragon'},\n",
    " {'title': 'Throne', 'author': 'Him', 'genre': 'Dragon'}]\n",
    "\n",
    "\n",
    "\n",
    "use_genre=input(\"Please enter a genre: \")\n",
    "for book in book_dict:\n",
    "    if book['genre']==genre_filter:\n",
    "        print(\"The book title is: \"+book['title'])\n",
    "        print(\"The book author is: \"+book['author'])\n",
    "        print(\"The book genre is: \"+book['genre'])\n",
    "    else:\n",
    "        print(\"Pick a different genre.\")\n"
   ]
  },
  {
   "cell_type": "code",
   "execution_count": 23,
   "id": "250dd677",
   "metadata": {},
   "outputs": [
    {
     "name": "stdout",
     "output_type": "stream",
     "text": [
      "The book title is: Lamb\n",
      "The book author is: Christopher Moore\n",
      "The book genre is: fiction\n",
      "The book title is: The Lean Startup\n",
      "The book author is: Eric Ries\n",
      "The book genre is: business\n",
      "The book title is: Devil in a White City\n",
      "The book author is: Eric Larson\n",
      "The book genre is: True Crime\n",
      "The book title is: Tom Sawyer\n",
      "The book author is: Mark Twain\n",
      "The book genre is: fiction\n",
      "Please enter a genrefiction\n",
      "The book title is: Lamb\n",
      "The book author is: Christopher Moore\n",
      "The book title is: Tom Sawyer\n",
      "The book author is: Mark Twain\n"
     ]
    }
   ],
   "source": [
    "book_list=[{'title':\"Lamb\",'author':\"Christopher Moore\",'genre':\"fiction\"},\n",
    "{'title':\"The Lean Startup\",'author':\"Eric Ries\",'genre':\"business\"},{'title':\"Devil in a White City\",'author':\"Eric Larson\",'genre':\"True Crime\"},{'title':\"Tom Sawyer\",'author':\"Mark Twain\",'genre':\"fiction\"}]\n",
    "for book in book_list:\n",
    "    print(\"The book title is: \"+book['title'])\n",
    "    print(\"The book author is: \"+book['author'])\n",
    "    print(\"The book genre is: \"+book['genre'])\n",
    "\n",
    "\n",
    "#Exercise 6.a\n",
    "genre_filter=input(\"Please enter a genre\")\n",
    "for book in book_list:\n",
    "    if book['genre']==genre_filter:\n",
    "        print(\"The book title is: \"+book['title'])\n",
    "        print(\"The book author is: \"+book['author'])"
   ]
  }
 ],
 "metadata": {
  "kernelspec": {
   "display_name": "Python 3 (ipykernel)",
   "language": "python",
   "name": "python3"
  },
  "language_info": {
   "codemirror_mode": {
    "name": "ipython",
    "version": 3
   },
   "file_extension": ".py",
   "mimetype": "text/x-python",
   "name": "python",
   "nbconvert_exporter": "python",
   "pygments_lexer": "ipython3",
   "version": "3.9.13"
  },
  "widgets": {
   "application/vnd.jupyter.widget-state+json": {
    "state": {},
    "version_major": 2,
    "version_minor": 0
   }
  }
 },
 "nbformat": 4,
 "nbformat_minor": 5
}
