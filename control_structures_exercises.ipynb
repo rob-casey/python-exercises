{
 "cells": [
  {
   "cell_type": "code",
   "execution_count": null,
   "id": "cd380e61",
   "metadata": {},
   "outputs": [],
   "source": [
    "# Conditional Basics\n",
    "# Prompt the user for a day of the week, print out whether the day is Monday or not"
   ]
  },
  {
   "cell_type": "code",
   "execution_count": null,
   "id": "f33d4baf",
   "metadata": {},
   "outputs": [],
   "source": [
    "day_of_week = input(\"Which day of the week? (Monday - Sunday) \")\n",
    "if day_of_week == 'Monday':\n",
    "    print(\"Today is indeed Monday.\")\n",
    "else:\n",
    "    print(\"Today is definitely not Monday.\")"
   ]
  },
  {
   "cell_type": "code",
   "execution_count": null,
   "id": "be42f8d6",
   "metadata": {},
   "outputs": [],
   "source": [
    "# Prompt the user for a day of the week, print out whether the day is a weekday or a weekend"
   ]
  },
  {
   "cell_type": "code",
   "execution_count": null,
   "id": "5d6bcb79",
   "metadata": {},
   "outputs": [],
   "source": [
    "which_day = input(\"Which day of the week? (Monday - Sunday) \")\n",
    "if which_day == 'Sunday':\n",
    "    print(\"It's the weekend!\")\n",
    "else:\n",
    "    print(\"Weekday\")"
   ]
  },
  {
   "cell_type": "code",
   "execution_count": null,
   "id": "f2728e6f",
   "metadata": {},
   "outputs": [],
   "source": [
    "# Create variables and make up values for\n",
    "# The number of hours worked in one week\n",
    "# The hourly rate\n",
    "# How much the week's paycheck will be\n",
    "# Write the python code that calculates the weekly paycheck. \n",
    "# You get paid time and a half if you work more than 40 hours."
   ]
  },
  {
   "cell_type": "code",
   "execution_count": null,
   "id": "32638ea1",
   "metadata": {},
   "outputs": [],
   "source": [
    "hours_week = 50\n",
    "hourly_rate = 20\n",
    "weekly_paycheck = hours_week * hourly_rate\n",
    "weekly_paycheck = weekly_paycheck + (hours_week - 40) * (hourly_rate * 1.5)\n",
    "weekly_paycheck"
   ]
  },
  {
   "cell_type": "code",
   "execution_count": null,
   "id": "f76d7765",
   "metadata": {},
   "outputs": [],
   "source": [
    "# While Loops\n",
    "# Create an integer variable i with a value of 5. \n",
    "# Create a while loop that runs so long as i is less than or equal to 15. \n",
    "# Each loop iteration, output the current value of i, then increment i by one."
   ]
  },
  {
   "cell_type": "code",
   "execution_count": null,
   "id": "d76ccf3c",
   "metadata": {},
   "outputs": [],
   "source": [
    "i = 5\n",
    "while i <= 15:\n",
    "    print(i)\n",
    "    i += 1 "
   ]
  },
  {
   "cell_type": "code",
   "execution_count": null,
   "id": "37769509",
   "metadata": {},
   "outputs": [],
   "source": [
    "# Create a while loop that will count by 2's starting with 0 and ending at 100. \n",
    "# Follow each number with a new line."
   ]
  },
  {
   "cell_type": "code",
   "execution_count": null,
   "id": "e7cb47b6",
   "metadata": {
    "scrolled": true
   },
   "outputs": [],
   "source": [
    "i = 0\n",
    "while i < 100:\n",
    "    print(i)\n",
    "    i += 2"
   ]
  },
  {
   "cell_type": "code",
   "execution_count": null,
   "id": "d14aed53",
   "metadata": {},
   "outputs": [],
   "source": [
    "# Alter your loop to count backwards by 5's from 100 to -10"
   ]
  },
  {
   "cell_type": "code",
   "execution_count": null,
   "id": "a8257330",
   "metadata": {
    "scrolled": false
   },
   "outputs": [],
   "source": [
    "i = 100\n",
    "while i in range(-10,101):\n",
    "    print(i)\n",
    "    i -= 5"
   ]
  },
  {
   "cell_type": "code",
   "execution_count": null,
   "id": "13931a95",
   "metadata": {},
   "outputs": [],
   "source": [
    "# Create a while loop that starts at 2, \n",
    "# and displays the number squared on each line while the number is less than 1,000,000. "
   ]
  },
  {
   "cell_type": "code",
   "execution_count": null,
   "id": "1e68b6b5",
   "metadata": {},
   "outputs": [],
   "source": [
    "i = 2\n",
    "while i < 1000000:\n",
    "    print(i)\n",
    "    i **= 2"
   ]
  },
  {
   "cell_type": "code",
   "execution_count": null,
   "id": "97cfa27f",
   "metadata": {},
   "outputs": [],
   "source": [
    "## Write a loop that uses print to create the output shown below."
   ]
  },
  {
   "cell_type": "code",
   "execution_count": null,
   "id": "495d291a",
   "metadata": {
    "scrolled": true
   },
   "outputs": [],
   "source": [
    "i = 100\n",
    "while i in range(5,101):\n",
    "    print(i)\n",
    "    i -= 5while i < 1000000:\n",
    "    print(i)\n",
    "    i **= 2"
   ]
  },
  {
   "cell_type": "code",
   "execution_count": null,
   "id": "7fbc4a92",
   "metadata": {},
   "outputs": [],
   "source": [
    "# For Loops\n",
    "# Write some code that prompts the user for a number, \n",
    "# then shows a multiplication table up through 10 for that number."
   ]
  },
  {
   "cell_type": "code",
   "execution_count": null,
   "id": "790bbffa",
   "metadata": {},
   "outputs": [],
   "source": [
    "n = input('Enter a number i.e. 2, 19, -100: ')\n",
    "n = int(n)\n",
    "for i in range(1,11):\n",
    "\tmultiply = i * n\n",
    "\tprint(n,' x ', i, ' = ', multiply)\n",
    "\ti += 1"
   ]
  },
  {
   "cell_type": "code",
   "execution_count": null,
   "id": "a80fe327",
   "metadata": {},
   "outputs": [],
   "source": [
    "for i in range(1,10):\n",
    "    print(i * str(i))"
   ]
  },
  {
   "cell_type": "code",
   "execution_count": null,
   "id": "04bf8a9e",
   "metadata": {},
   "outputs": [],
   "source": [
    "# Write a program that prompts the user for a positive integer. \n",
    "# Next write a loop that prints out the numbers from the number the user entered down to 1.\n",
    "\n",
    "# range ~ continue statement\n",
    " \n",
    "while True:\n",
    "    num = input(\"Enter positive integer: \")\n",
    "    \n",
    "    if num.isdigit() == True:\n",
    "        print(\"Good job. A digit!\")\n",
    "        if int(num) > 0: \n",
    "            print(\"Well done. Positively!\")\n",
    "            break\n",
    "\n",
    "int_num = int(num)\n",
    "for i in range(int_num, 0, -1):\n",
    "    print(i)\n",
    "#         print('This is a string, not an integer, nerd')\n",
    "#         break\n",
    "\n",
    "# for i in range(0, countdown + 1, -1):\n",
    "#     print(i)"
   ]
  },
  {
   "cell_type": "code",
   "execution_count": null,
   "id": "31fa20e3",
   "metadata": {},
   "outputs": [],
   "source": [
    "# Write a program that prompts the user for a positive integer.\n",
    "\n",
    "# Prompt the user to enter a positive number and \n",
    "# write a loop that counts from 0 to that number. \n",
    "\n",
    "while True:\n",
    "    num = input(\"Enter positive integer: \")\n",
    "    \n",
    "    if num.isdigit() == True:\n",
    "        print(\"Good job. A digit!\")\n",
    "        if int(num) > 0: \n",
    "            print(\"Well done. Positively!\")\n",
    "            break\n",
    "\n",
    "int_num = int(num)\n",
    "for i in range(0, int_num + 1, +1):\n",
    "    print(i)"
   ]
  },
  {
   "cell_type": "code",
   "execution_count": null,
   "id": "fcee8deb",
   "metadata": {},
   "outputs": [],
   "source": [
    "# Convert given number grades into letter grades.\n",
    "# Prompt the user for a numerical grade from 0 to 100\n",
    "# Display the corresponding letter grade\n",
    "# Prompt the user to continue\n",
    "# Assume that the user will enter valid integers for the grades\n",
    "# The application should only continue if the user agrees to\n",
    "# Grade Ranges:\n",
    "# A : 100 - 88\n",
    "# B : 87 - 80\n",
    "# C : 79 - 67\n",
    "# D : 66 - 60\n",
    "# F : 59 - 0\n",
    "\n",
    "# enter number for user_grade\n",
    "\n",
    "# user_grade = 90\n",
    "\n",
    "while True:\n",
    "    user_grade = int(input(\"Enter a numerical grade from 0-100: \"))\n",
    "\n",
    "# set up cases using 'if' and 'elif'\n",
    "\n",
    "    if user_grade >= 88:\n",
    "        print(\"A\")\n",
    "\n",
    "    elif user_grade >= 80:\n",
    "        print(\"B\")\n",
    "\n",
    "    elif user_grade >= 67:\n",
    "        print(\"C\")\n",
    "\n",
    "    elif user_grade >= 60:\n",
    "        print(\"D\")\n",
    "        \n",
    "    else:\n",
    "        print(\"F\")\n",
    "        \n",
    "    user_response = input(\"Would you like to continue?  (y/n)\\n\")\n",
    "    ## Compare the lowercase version if the string\n",
    "    ## Check if the response is not yes\n",
    "    if user_response.lower() != 'y':\n",
    "        break\n",
    "    "
   ]
  },
  {
   "cell_type": "code",
   "execution_count": null,
   "id": "9e1066df",
   "metadata": {},
   "outputs": [],
   "source": []
  },
  {
   "cell_type": "code",
   "execution_count": null,
   "id": "b1475a99",
   "metadata": {},
   "outputs": [],
   "source": []
  },
  {
   "cell_type": "code",
   "execution_count": null,
   "id": "197f1d8f",
   "metadata": {},
   "outputs": [],
   "source": []
  },
  {
   "cell_type": "code",
   "execution_count": null,
   "id": "ebd8bfde",
   "metadata": {},
   "outputs": [],
   "source": []
  },
  {
   "cell_type": "code",
   "execution_count": null,
   "id": "3741f283",
   "metadata": {},
   "outputs": [],
   "source": []
  },
  {
   "cell_type": "code",
   "execution_count": null,
   "id": "52fcdc23",
   "metadata": {},
   "outputs": [],
   "source": []
  }
 ],
 "metadata": {
  "kernelspec": {
   "display_name": "Python 3 (ipykernel)",
   "language": "python",
   "name": "python3"
  },
  "language_info": {
   "codemirror_mode": {
    "name": "ipython",
    "version": 3
   },
   "file_extension": ".py",
   "mimetype": "text/x-python",
   "name": "python",
   "nbconvert_exporter": "python",
   "pygments_lexer": "ipython3",
   "version": "3.9.13"
  },
  "widgets": {
   "application/vnd.jupyter.widget-state+json": {
    "state": {},
    "version_major": 2,
    "version_minor": 0
   }
  }
 },
 "nbformat": 4,
 "nbformat_minor": 5
}
