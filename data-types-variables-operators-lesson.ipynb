{
 "cells": [
  {
   "cell_type": "markdown",
   "id": "5485bd87",
   "metadata": {},
   "source": [
    "## Objectives\n",
    "\n",
    "\n",
    "- Gain familiarity with Jupyter notebooks\n",
    "- Use and manipulate various data types\n",
    "- Create, assign, and update variables\n",
    "- Represent information with data types\n",
    "- Use Boolean operators \n",
    "- Create and modify strings with string methods\n",
    "- Create tuples\n",
    "- Create dictionaries\n",
    "\n",
    "[Reference](https://ds.codeup.com/python/data-types-and-variables/)"
   ]
  },
  {
   "cell_type": "markdown",
   "id": "dc431b96",
   "metadata": {},
   "source": [
    "---\n",
    "\n",
    "## Data Types\n",
    "\n",
    "\n",
    "| Data type | Description |\n",
    "|:-: |----------|\n",
    "| `bool`|   Boolean values (True or False) |\n",
    "| `str`  |  whole, or counting numbers |\n",
    "| `float`|  decimal numbers |\n",
    "| `list`| an ordered sequence of objects |\n",
    "| `dict`| a collection of named values\n",
    "| `NoneType` |  indicates absence of a value\n"
   ]
  },
  {
   "cell_type": "markdown",
   "id": "159fb5e4",
   "metadata": {},
   "source": [
    "\n",
    "###  `type` function\n",
    "\n",
    "`print`\n",
    "\n",
    "Returns the data type of an object. \n",
    "How you format python code in Markdown.\n",
    "\n",
    "```python\n",
    "type(object)\n",
    "```\n",
    "\n"
   ]
  },
  {
   "cell_type": "markdown",
   "id": "f94c0b8a",
   "metadata": {},
   "source": [
    "### Examples"
   ]
  },
  {
   "cell_type": "code",
   "execution_count": 2,
   "id": "7e95c852",
   "metadata": {},
   "outputs": [
    {
     "data": {
      "text/plain": [
       "int"
      ]
     },
     "execution_count": 2,
     "metadata": {},
     "output_type": "execute_result"
    }
   ],
   "source": [
    "type(123)"
   ]
  },
  {
   "cell_type": "code",
   "execution_count": 4,
   "id": "16b97f36",
   "metadata": {},
   "outputs": [
    {
     "data": {
      "text/plain": [
       "str"
      ]
     },
     "execution_count": 4,
     "metadata": {},
     "output_type": "execute_result"
    }
   ],
   "source": [
    "type('Hello')"
   ]
  },
  {
   "cell_type": "code",
   "execution_count": 5,
   "id": "d40609af",
   "metadata": {},
   "outputs": [
    {
     "data": {
      "text/plain": [
       "bool"
      ]
     },
     "execution_count": 5,
     "metadata": {},
     "output_type": "execute_result"
    }
   ],
   "source": [
    "type(True)"
   ]
  },
  {
   "cell_type": "code",
   "execution_count": 3,
   "id": "0815fd35",
   "metadata": {},
   "outputs": [
    {
     "data": {
      "text/plain": [
       "float"
      ]
     },
     "execution_count": 3,
     "metadata": {},
     "output_type": "execute_result"
    }
   ],
   "source": [
    "type(123.0)"
   ]
  },
  {
   "cell_type": "code",
   "execution_count": 6,
   "id": "4cc1b710",
   "metadata": {},
   "outputs": [
    {
     "data": {
      "text/plain": [
       "bool"
      ]
     },
     "execution_count": 6,
     "metadata": {},
     "output_type": "execute_result"
    }
   ],
   "source": [
    "type(False)"
   ]
  },
  {
   "cell_type": "code",
   "execution_count": 7,
   "id": "e608c4ec",
   "metadata": {},
   "outputs": [
    {
     "data": {
      "text/plain": [
       "str"
      ]
     },
     "execution_count": 7,
     "metadata": {},
     "output_type": "execute_result"
    }
   ],
   "source": [
    "type('True')"
   ]
  },
  {
   "cell_type": "markdown",
   "id": "e66fe575",
   "metadata": {},
   "source": [
    "---\n",
    "\n",
    "## Variables"
   ]
  },
  {
   "cell_type": "markdown",
   "id": "d4c08266",
   "metadata": {},
   "source": [
    "### Assigning a variable\n",
    "\n"
   ]
  },
  {
   "cell_type": "code",
   "execution_count": null,
   "id": "c988114a",
   "metadata": {},
   "outputs": [],
   "source": []
  },
  {
   "cell_type": "markdown",
   "id": "becec838",
   "metadata": {},
   "source": [
    "#### Troubleshooting\n",
    "\n",
    "What is the result of the following code?\n",
    "\n",
    "```python\n",
    "a = 6\n",
    "print(a + b)\n",
    "b = 4\n",
    "```\n",
    "\n"
   ]
  },
  {
   "cell_type": "markdown",
   "id": "d85bfe8e",
   "metadata": {},
   "source": [
    "### Updating a variable\n"
   ]
  },
  {
   "cell_type": "code",
   "execution_count": 11,
   "id": "eb69f9e1",
   "metadata": {},
   "outputs": [],
   "source": [
    "favorite_number = 17\n",
    "n = favorite_number + 7"
   ]
  },
  {
   "cell_type": "code",
   "execution_count": 13,
   "id": "ad91ae70",
   "metadata": {},
   "outputs": [
    {
     "name": "stdout",
     "output_type": "stream",
     "text": [
      "17\n",
      "24\n"
     ]
    }
   ],
   "source": [
    "print(favorite_number)\n",
    "print(n)"
   ]
  },
  {
   "cell_type": "markdown",
   "id": "30cb8a8a",
   "metadata": {},
   "source": [
    "#### Example: Running a cell multiple times"
   ]
  },
  {
   "cell_type": "markdown",
   "id": "69fe5566",
   "metadata": {},
   "source": [
    "## Boolean values\n",
    "\n",
    "\n",
    "There are two Boolean values: `True` and `False`\n",
    "\n",
    "**Note:** A Boolean value is not a string\n",
    "\n",
    "```python\n",
    "type(True)\n",
    "```\n",
    "```\n",
    "bool\n",
    "```\n",
    "\n",
    "```python\n",
    "type('True')\n",
    "```\n",
    "```\n",
    "str\n",
    "```\n",
    "\n"
   ]
  },
  {
   "cell_type": "markdown",
   "id": "4e1e476c",
   "metadata": {},
   "source": [
    "## Comparison operators \n",
    "\n",
    "\n",
    "\n",
    "#### Checks for equality\n",
    "```python\n",
    "==\n",
    "```\n",
    "\n",
    "\n",
    "\n",
    "#### Checks for inequality\n",
    "```python\n",
    "!=\n",
    "```"
   ]
  },
  {
   "cell_type": "markdown",
   "id": "db22b82e",
   "metadata": {},
   "source": [
    "### Examples "
   ]
  },
  {
   "cell_type": "code",
   "execution_count": null,
   "id": "dfa12d91",
   "metadata": {},
   "outputs": [],
   "source": []
  },
  {
   "cell_type": "markdown",
   "id": "0bdf9a97",
   "metadata": {},
   "source": [
    "## Boolean Operators\n",
    "\n",
    "\n",
    "Boolean operators evaluate statements and return a Boolean value.\n",
    "\n",
    "\n",
    "#### `not` statements - also known as a negation\n",
    "\n",
    "\n",
    "Returns the opposite Boolean value\n",
    "\n",
    "| A | not A \n",
    "|:-: | :-:| \n",
    "| T | F |\n",
    "| F | T |\n",
    "\n",
    "\n",
    "\n",
    "For two statements **A** and **B**\n",
    "\n",
    "#### `and` statement - also known as a *conjunction*\n",
    "\n",
    "\n",
    "    \n",
    "    \n",
    "\n",
    "| A | B | A and B\n",
    "|:-: | :-:| :-: | \n",
    "| T | T | T | \n",
    "| T | F | F | \n",
    "| F | T | F | \n",
    "| F | F | F | \n",
    "\n",
    "\n",
    "\n",
    "#### `or` statement - also known as a *disjunction*\n",
    "\n",
    "    \n",
    "\n",
    "| A | B | A or B\n",
    "|:-: | :-:| :-: | \n",
    "| T | T | T | \n",
    "| T | F | T | \n",
    "| F | T | T | \n",
    "| F | F | F | \n",
    "\n",
    "\n"
   ]
  },
  {
   "cell_type": "markdown",
   "id": "ab85b996",
   "metadata": {},
   "source": [
    "\n",
    "\n",
    "## Numbers\n",
    "\n",
    "Two commonly used number types:\n",
    "\n",
    "\n",
    "`int` - Whole numbers (both positive and negative) and 0\n",
    "\n",
    "`float` - Numbers with decimals\n",
    "\n",
    "####  Arithmetic Operations\n",
    "\n",
    "| Operation      | Operator | Example  |\n",
    "| ---------      | -------- | -------  |\n",
    "| Addition       | `+`      | `4 + 4`  |\n",
    "| Subtraction    | `-`      | `9 - 1`  |\n",
    "| Multiplication | `*`      | `4 * 2`  |\n",
    "| Division       | `/`      | `16 / 2` |\n",
    "| Exponentiation | `**`     | `2 ** 3` |\n",
    "\n",
    "\n",
    "\n",
    "####  Comparison Operations\n",
    "\n",
    "| Operator | Description              | Example  |\n",
    "| -------- | -----------              | -------  |\n",
    "| `==`     | Equal to                 | `1 == 1` |\n",
    "| `!=`     | Not equal to             | `1 != 0` |\n",
    "| `>`      | Greater than             | `1 > 0`  |\n",
    "| `<`      | Less than                | `0 < 1`  |\n",
    "| `>=`     | Greater than or equal to | `1 >= 1` |\n",
    "| `<=`     | Less than or equal to    | `1 <= 1` |\n",
    "\n",
    "\n"
   ]
  },
  {
   "cell_type": "markdown",
   "id": "c41910f7",
   "metadata": {},
   "source": [
    "### Examples"
   ]
  },
  {
   "cell_type": "code",
   "execution_count": null,
   "id": "04832d7f",
   "metadata": {},
   "outputs": [],
   "source": []
  },
  {
   "cell_type": "code",
   "execution_count": null,
   "id": "08fc3046",
   "metadata": {},
   "outputs": [],
   "source": []
  },
  {
   "cell_type": "markdown",
   "id": "3a5496a8",
   "metadata": {},
   "source": [
    "---\n",
    "## Strings\n",
    "\n",
    "Strings represent text and are enclosed by quotes.\n",
    "\n",
    "\n",
    "\n",
    "```python\n",
    "'A string in single quotes'\n",
    "```\n",
    "\n",
    "\n",
    "\n",
    "```python\n",
    "\"A string in double quotes\"\n",
    "```\n",
    "\n",
    "\n",
    "\n",
    "```python\n",
    "'''A multi-line\n",
    "string in\n",
    "triple quotes'''\n",
    "```\n"
   ]
  },
  {
   "cell_type": "markdown",
   "id": "8360f2f2",
   "metadata": {},
   "source": [
    "### Examples\n",
    "\n"
   ]
  },
  {
   "cell_type": "code",
   "execution_count": null,
   "id": "0560f2af",
   "metadata": {},
   "outputs": [],
   "source": []
  },
  {
   "cell_type": "code",
   "execution_count": null,
   "id": "76ec8629",
   "metadata": {},
   "outputs": [],
   "source": []
  },
  {
   "cell_type": "markdown",
   "id": "aef02a48",
   "metadata": {},
   "source": [
    "### Operations with strings\n"
   ]
  },
  {
   "cell_type": "code",
   "execution_count": null,
   "id": "dc2908c2",
   "metadata": {},
   "outputs": [],
   "source": []
  },
  {
   "cell_type": "markdown",
   "id": "fd700c3a",
   "metadata": {},
   "source": [
    "### Examples"
   ]
  },
  {
   "cell_type": "code",
   "execution_count": null,
   "id": "482dd6b8",
   "metadata": {},
   "outputs": [],
   "source": []
  },
  {
   "cell_type": "markdown",
   "id": "43cba2ea",
   "metadata": {},
   "source": [
    "### Formatting strings \n"
   ]
  },
  {
   "cell_type": "code",
   "execution_count": null,
   "id": "3d22abd5",
   "metadata": {},
   "outputs": [],
   "source": []
  },
  {
   "cell_type": "markdown",
   "id": "dfdd3a28",
   "metadata": {},
   "source": [
    "### Examples"
   ]
  },
  {
   "cell_type": "code",
   "execution_count": null,
   "id": "70245ab6",
   "metadata": {},
   "outputs": [],
   "source": []
  },
  {
   "cell_type": "code",
   "execution_count": null,
   "id": "01d38009",
   "metadata": {},
   "outputs": [],
   "source": []
  },
  {
   "cell_type": "markdown",
   "id": "56606a97",
   "metadata": {},
   "source": [
    "### String methods"
   ]
  },
  {
   "cell_type": "markdown",
   "id": "8d2ffe5d",
   "metadata": {},
   "source": [
    "A string method does not modify the original string. \n",
    "\n",
    "Assign the result to a new variable or update the string to use the modified string. \n",
    "\n",
    "\n",
    "\n",
    "| Data type | Description |\n",
    "|:-: |----------|\n",
    "| `.lower`|  convert to lower case\n",
    "| `.upper`|  convert to upper case\n",
    "| `.strip`  |  remove leading or trailing whitespace\n",
    "| `.isdigit`|  tests whether a string is a number |\n",
    "| `.split`| converts a string to a list |\n",
    "| `.join`| converts a list to a string\n",
    "\n"
   ]
  },
  {
   "cell_type": "markdown",
   "id": "6e060c17",
   "metadata": {},
   "source": [
    "### Examples"
   ]
  },
  {
   "cell_type": "code",
   "execution_count": 16,
   "id": "31fd0552",
   "metadata": {},
   "outputs": [],
   "source": [
    "s = 'Hello, world!'"
   ]
  },
  {
   "cell_type": "code",
   "execution_count": 17,
   "id": "b6e3e724",
   "metadata": {},
   "outputs": [
    {
     "data": {
      "text/plain": [
       "'hello, world!'"
      ]
     },
     "execution_count": 17,
     "metadata": {},
     "output_type": "execute_result"
    }
   ],
   "source": [
    "s.lower()"
   ]
  },
  {
   "cell_type": "code",
   "execution_count": 18,
   "id": "732de4c0",
   "metadata": {},
   "outputs": [
    {
     "name": "stdout",
     "output_type": "stream",
     "text": [
      "Hello, world!\n"
     ]
    }
   ],
   "source": [
    "print(s)"
   ]
  },
  {
   "cell_type": "markdown",
   "id": "834a6bab",
   "metadata": {},
   "source": [
    "---\n",
    "\n",
    "## Lists"
   ]
  },
  {
   "cell_type": "markdown",
   "id": "5d3a6fc1",
   "metadata": {},
   "source": [
    "### Creating a list\n",
    "\n"
   ]
  },
  {
   "cell_type": "code",
   "execution_count": null,
   "id": "23f3087e",
   "metadata": {},
   "outputs": [],
   "source": []
  },
  {
   "cell_type": "code",
   "execution_count": null,
   "id": "74602f34",
   "metadata": {},
   "outputs": [],
   "source": []
  },
  {
   "cell_type": "markdown",
   "id": "8014f139",
   "metadata": {},
   "source": [
    "### List comprehensions"
   ]
  },
  {
   "cell_type": "code",
   "execution_count": null,
   "id": "a1c8ecbf",
   "metadata": {},
   "outputs": [],
   "source": []
  },
  {
   "cell_type": "code",
   "execution_count": null,
   "id": "3f02757e",
   "metadata": {},
   "outputs": [],
   "source": []
  },
  {
   "cell_type": "markdown",
   "id": "f8ec2026",
   "metadata": {},
   "source": [
    "### List Operations"
   ]
  },
  {
   "cell_type": "code",
   "execution_count": 19,
   "id": "7e836101",
   "metadata": {},
   "outputs": [],
   "source": [
    "numbers = [1, 2, 3]"
   ]
  },
  {
   "cell_type": "code",
   "execution_count": 20,
   "id": "5d3ffd93",
   "metadata": {},
   "outputs": [
    {
     "data": {
      "text/plain": [
       "[1, 2, 3, 4]"
      ]
     },
     "execution_count": 20,
     "metadata": {},
     "output_type": "execute_result"
    }
   ],
   "source": [
    "## Add 4 to the List\n",
    "numbers.append(4)\n",
    "numbers"
   ]
  },
  {
   "cell_type": "code",
   "execution_count": 21,
   "id": "35d3d9f8",
   "metadata": {},
   "outputs": [
    {
     "data": {
      "text/plain": [
       "[1, 2, 3]"
      ]
     },
     "execution_count": 21,
     "metadata": {},
     "output_type": "execute_result"
    }
   ],
   "source": [
    "## Removes last value in the List\n",
    "numbers.pop()\n",
    "numbers"
   ]
  },
  {
   "cell_type": "code",
   "execution_count": 23,
   "id": "f9c57230",
   "metadata": {},
   "outputs": [
    {
     "data": {
      "text/plain": [
       "3"
      ]
     },
     "execution_count": 23,
     "metadata": {},
     "output_type": "execute_result"
    }
   ],
   "source": [
    "## Index \n",
    "numbers[2]\n",
    "## Length is index -1"
   ]
  },
  {
   "cell_type": "code",
   "execution_count": 24,
   "id": "83863221",
   "metadata": {},
   "outputs": [
    {
     "data": {
      "text/plain": [
       "[1, 2]"
      ]
     },
     "execution_count": 24,
     "metadata": {},
     "output_type": "execute_result"
    }
   ],
   "source": [
    "## Slice = Range\n",
    "numbers[:2]\n",
    "## 0, 1 = 1, 2"
   ]
  },
  {
   "cell_type": "code",
   "execution_count": 25,
   "id": "6be9e550",
   "metadata": {},
   "outputs": [
    {
     "data": {
      "text/plain": [
       "5"
      ]
     },
     "execution_count": 25,
     "metadata": {},
     "output_type": "execute_result"
    }
   ],
   "source": [
    "## Range with Letters\n",
    "letters = ['a','b','c','d','e']\n",
    "len(letters)"
   ]
  },
  {
   "cell_type": "code",
   "execution_count": 29,
   "id": "31c15255",
   "metadata": {},
   "outputs": [
    {
     "data": {
      "text/plain": [
       "['a', 'b']"
      ]
     },
     "execution_count": 29,
     "metadata": {},
     "output_type": "execute_result"
    }
   ],
   "source": [
    "# 0, 1, 2 = a, b, c\n",
    "letters[:2]"
   ]
  },
  {
   "cell_type": "code",
   "execution_count": 31,
   "id": "552ce910",
   "metadata": {},
   "outputs": [
    {
     "data": {
      "text/plain": [
       "['a', 'b', 'c', 'd', ' ', 'e', 'f']"
      ]
     },
     "execution_count": 31,
     "metadata": {},
     "output_type": "execute_result"
    }
   ],
   "source": [
    "## Converting to a List\n",
    "\n",
    "list('abcd ef')"
   ]
  },
  {
   "cell_type": "code",
   "execution_count": 32,
   "id": "93cb9c9c",
   "metadata": {},
   "outputs": [
    {
     "data": {
      "text/plain": [
       "[0, 1, 2, 3, 4, 5, 6, 7, 8, 9]"
      ]
     },
     "execution_count": 32,
     "metadata": {},
     "output_type": "execute_result"
    }
   ],
   "source": [
    "## Converting a range function to a List\n",
    "list(range(10))"
   ]
  },
  {
   "cell_type": "code",
   "execution_count": 36,
   "id": "6baddb2a",
   "metadata": {},
   "outputs": [
    {
     "data": {
      "text/plain": [
       "['1', '2', '3']"
      ]
     },
     "execution_count": 36,
     "metadata": {},
     "output_type": "execute_result"
    }
   ],
   "source": [
    "# Map - Applying information to a objects.\n",
    "my_numbers = [1, 2, 3]\n",
    "list(map(str, my_numbers))\n",
    "\n",
    "## map(function, variable)"
   ]
  },
  {
   "cell_type": "markdown",
   "id": "9d85e9cf",
   "metadata": {},
   "source": [
    "---\n",
    "\n",
    "## Tuples"
   ]
  },
  {
   "cell_type": "code",
   "execution_count": null,
   "id": "b41502ed",
   "metadata": {},
   "outputs": [],
   "source": [
    "## Immutable List, Cannot be changed, but elements can be accessed\n",
    "my_tuple = (1, 2, 3)"
   ]
  },
  {
   "cell_type": "code",
   "execution_count": null,
   "id": "f389946b",
   "metadata": {},
   "outputs": [],
   "source": [
    "type(my_tuple)"
   ]
  },
  {
   "cell_type": "code",
   "execution_count": null,
   "id": "820dba77",
   "metadata": {},
   "outputs": [],
   "source": [
    "my_tuple[2]"
   ]
  },
  {
   "cell_type": "markdown",
   "id": "5380a52b",
   "metadata": {},
   "source": [
    "\n",
    "---\n",
    "\n",
    "## Dictionaries"
   ]
  },
  {
   "cell_type": "code",
   "execution_count": 45,
   "id": "f0025b56",
   "metadata": {},
   "outputs": [],
   "source": [
    "my_dictionary = {\n",
    "    \n",
    "    'key':'value'\n",
    "    \n",
    "}"
   ]
  },
  {
   "cell_type": "code",
   "execution_count": 46,
   "id": "9eae9a49",
   "metadata": {},
   "outputs": [
    {
     "data": {
      "text/plain": [
       "{'key': 'value'}"
      ]
     },
     "execution_count": 46,
     "metadata": {},
     "output_type": "execute_result"
    }
   ],
   "source": [
    "my_dictionary"
   ]
  },
  {
   "cell_type": "markdown",
   "id": "49bd9070",
   "metadata": {},
   "source": [
    "### Creating a dictionary "
   ]
  },
  {
   "cell_type": "code",
   "execution_count": 47,
   "id": "13b47117",
   "metadata": {},
   "outputs": [
    {
     "data": {
      "text/plain": [
       "{'key': 'value'}"
      ]
     },
     "execution_count": 47,
     "metadata": {},
     "output_type": "execute_result"
    }
   ],
   "source": [
    "dict(key = 'value')"
   ]
  },
  {
   "cell_type": "markdown",
   "id": "d3bc3500",
   "metadata": {},
   "source": [
    "### Accessing dictionary values"
   ]
  },
  {
   "cell_type": "code",
   "execution_count": null,
   "id": "1d9f49a2",
   "metadata": {},
   "outputs": [],
   "source": []
  },
  {
   "cell_type": "code",
   "execution_count": null,
   "id": "376b77ed",
   "metadata": {},
   "outputs": [],
   "source": []
  },
  {
   "cell_type": "code",
   "execution_count": null,
   "id": "c658176f",
   "metadata": {},
   "outputs": [],
   "source": []
  },
  {
   "cell_type": "code",
   "execution_count": null,
   "id": "3d4e9046",
   "metadata": {},
   "outputs": [],
   "source": []
  },
  {
   "cell_type": "markdown",
   "id": "bc98e720",
   "metadata": {},
   "source": [
    "## Changing data types\n",
    "\n",
    "```python\n",
    "int()\n",
    "```\n",
    "\n",
    "```python\n",
    "str()\n",
    "```\n",
    "\n"
   ]
  },
  {
   "cell_type": "markdown",
   "id": "c7d4d25b",
   "metadata": {},
   "source": [
    "### Examples"
   ]
  },
  {
   "cell_type": "code",
   "execution_count": 52,
   "id": "ab0d864a",
   "metadata": {},
   "outputs": [
    {
     "name": "stdout",
     "output_type": "stream",
     "text": [
      "What is the first number? 10\n",
      "What is the second number? 30\n"
     ]
    }
   ],
   "source": [
    "first_number = input('What is the first number?')\n",
    "second_number = input('What is the second number?')"
   ]
  },
  {
   "cell_type": "code",
   "execution_count": 53,
   "id": "b8e1114f",
   "metadata": {},
   "outputs": [],
   "source": [
    "sum_numbers = first_number + second_number"
   ]
  },
  {
   "cell_type": "markdown",
   "id": "fe642f3d",
   "metadata": {},
   "source": [
    "### Getting user input with `input`\n",
    "\n",
    "```python\n",
    "name = input('What is your name?')\n",
    "print(name)\n",
    "```"
   ]
  }
 ],
 "metadata": {
  "kernelspec": {
   "display_name": "Python 3 (ipykernel)",
   "language": "python",
   "name": "python3"
  },
  "language_info": {
   "codemirror_mode": {
    "name": "ipython",
    "version": 3
   },
   "file_extension": ".py",
   "mimetype": "text/x-python",
   "name": "python",
   "nbconvert_exporter": "python",
   "pygments_lexer": "ipython3",
   "version": "3.9.13"
  }
 },
 "nbformat": 4,
 "nbformat_minor": 5
}
