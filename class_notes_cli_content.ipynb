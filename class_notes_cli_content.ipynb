{
 "cells": [
  {
   "cell_type": "code",
   "execution_count": 6,
   "id": "d9674676",
   "metadata": {},
   "outputs": [],
   "source": [
    "import csv"
   ]
  },
  {
   "cell_type": "code",
   "execution_count": 7,
   "id": "d0321343",
   "metadata": {},
   "outputs": [],
   "source": [
    "# lets make a receipt\n",
    "# item, category, oruce\n",
    "# three cols:\n",
    "# item: what thing\n",
    "# category: what type of thing\n",
    "# price: da moneys\n",
    "\n",
    "cols = ['item', 'category', 'price'] # column names = easier to reference\n",
    "transaction = {\n",
    "    'item' : 'milk', # commas are new lines, similar to excel grid\n",
    "    'category' : 'dairy',\n",
    "    'price' : 100.00\n",
    "}\n",
    "# this represents one row in a dictionary"
   ]
  },
  {
   "cell_type": "code",
   "execution_count": 4,
   "id": "08273ff3",
   "metadata": {},
   "outputs": [
    {
     "data": {
      "text/plain": [
       "['item', 'category', 'price']"
      ]
     },
     "execution_count": 4,
     "metadata": {},
     "output_type": "execute_result"
    }
   ],
   "source": [
    "list(transaction) # list only returns columns"
   ]
  },
  {
   "cell_type": "code",
   "execution_count": null,
   "id": "697859aa",
   "metadata": {},
   "outputs": [],
   "source": [
    "# csv.DictWriter needs:\n",
    "# what file its writing to (f)\n",
    "# field names (cols)"
   ]
  },
  {
   "cell_type": "code",
   "execution_count": 8,
   "id": "af83b483",
   "metadata": {},
   "outputs": [],
   "source": [
    "with open('groceries.csv', 'w') as f:\n",
    "    writer = csv.DictWriter(f, fieldnames=cols)\n",
    "    writer.writeheader()\n",
    "    writer.writerow(transaction)"
   ]
  },
  {
   "cell_type": "code",
   "execution_count": 9,
   "id": "d6ef26e4",
   "metadata": {},
   "outputs": [],
   "source": [
    "# W overwrites previous code\n",
    "# A appends\n",
    "# R read in a csv\n",
    "\n",
    "with open('groceries.csv', 'w') as f:\n",
    "    writer = csv.DictWriter(f, fieldnames=cols)\n",
    "    writer.writeheader() #maps top line to columns\n",
    "    writer.writerow(\n",
    "    {\n",
    "            'item': 'eggs',\n",
    "            'category': 'dairy',\n",
    "            'price': 200\n",
    "    })"
   ]
  },
  {
   "cell_type": "code",
   "execution_count": 10,
   "id": "96557f51",
   "metadata": {},
   "outputs": [],
   "source": [
    "with open('groceries.csv', 'r') as f:\n",
    "    content = csv.DictReader(f, fieldnames=cols)\n",
    "    lines = []\n",
    "    for line in content:\n",
    "        lines.append(line)"
   ]
  },
  {
   "cell_type": "code",
   "execution_count": 12,
   "id": "e664ffc0",
   "metadata": {},
   "outputs": [],
   "source": [
    "with open('groceries.csv', 'r') as f:\n",
    "    content = csv.DictReader(f, fieldnames=cols)\n",
    "    lines = [line for line in content][1:]"
   ]
  },
  {
   "cell_type": "code",
   "execution_count": 13,
   "id": "0ce9b947",
   "metadata": {},
   "outputs": [
    {
     "data": {
      "text/plain": [
       "[{'item': 'eggs', 'category': 'dairy', 'price': '200'}]"
      ]
     },
     "execution_count": 13,
     "metadata": {},
     "output_type": "execute_result"
    }
   ],
   "source": [
    "lines"
   ]
  }
 ],
 "metadata": {
  "kernelspec": {
   "display_name": "Python 3 (ipykernel)",
   "language": "python",
   "name": "python3"
  },
  "language_info": {
   "codemirror_mode": {
    "name": "ipython",
    "version": 3
   },
   "file_extension": ".py",
   "mimetype": "text/x-python",
   "name": "python",
   "nbconvert_exporter": "python",
   "pygments_lexer": "ipython3",
   "version": "3.9.13"
  }
 },
 "nbformat": 4,
 "nbformat_minor": 5
}
