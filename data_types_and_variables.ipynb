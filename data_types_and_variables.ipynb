{
 "cells": [
  {
   "cell_type": "code",
   "execution_count": null,
   "id": "695633ab",
   "metadata": {},
   "outputs": [],
   "source": [
    "5. You have rented some movies for your kids:\n",
    "    \n",
    "    The Little Mermaid for 3 days\n",
    "    Brother Bear for 5 days\n",
    "    Hercules for 1 day\n",
    "    \n",
    "If the daily fee to rent a movie is 3 dollars, how much will you have to pay?    "
   ]
  },
  {
   "cell_type": "code",
   "execution_count": 22,
   "id": "b63204e9",
   "metadata": {},
   "outputs": [],
   "source": [
    "## Variables\n",
    "the_little_mermaid = 3\n",
    "brother_bear = 5\n",
    "hercules = 1\n",
    "daily_fee = 3"
   ]
  },
  {
   "cell_type": "code",
   "execution_count": 23,
   "id": "60ebf204",
   "metadata": {},
   "outputs": [
    {
     "data": {
      "text/plain": [
       "27"
      ]
     },
     "execution_count": 23,
     "metadata": {},
     "output_type": "execute_result"
    }
   ],
   "source": [
    "movies = the_little_mermaid + brother_bear + hercules\n",
    "movies\n",
    "\n",
    "total_cost = movies * daily_fee\n",
    "total_cost"
   ]
  },
  {
   "cell_type": "code",
   "execution_count": null,
   "id": "0a4cd25f",
   "metadata": {},
   "outputs": [],
   "source": [
    "## Class Review\n",
    "daily_price = 3"
   ]
  },
  {
   "cell_type": "code",
   "execution_count": 24,
   "id": "5fe30d06",
   "metadata": {},
   "outputs": [],
   "source": [
    "# Set the number of days per movie\n",
    "the_little_mermaid = 3\n",
    "brother_bear = 5\n",
    "hercules = 1\n",
    "\n",
    "Could use a dictionary."
   ]
  },
  {
   "cell_type": "code",
   "execution_count": 25,
   "id": "e2b95650",
   "metadata": {},
   "outputs": [
    {
     "ename": "SyntaxError",
     "evalue": "invalid syntax (2740824826.py, line 1)",
     "output_type": "error",
     "traceback": [
      "\u001b[0;36m  Input \u001b[0;32mIn [25]\u001b[0;36m\u001b[0m\n\u001b[0;31m    6. Suppose you're working as a contractor for 3 companies: Google, Amazon and Facebook.\u001b[0m\n\u001b[0m       ^\u001b[0m\n\u001b[0;31mSyntaxError\u001b[0m\u001b[0;31m:\u001b[0m invalid syntax\n"
     ]
    }
   ],
   "source": [
    "6. Suppose youre working as a contractor for 3 companies: Google, Amazon and Facebook.\n",
    "\n",
    "    They pay you the following hourly rates:\n",
    "\n",
    "    Google: 400 dollars\n",
    "    Amazon: 380 dollars\n",
    "    Facebook: 350 dollars\n",
    "        \n",
    "    This week you worked: 10 hours for Facebook, 6 hours for Google and 4 hours for Amazon.\n",
    "        \n",
    "    How much will you receive in payment for this week?    "
   ]
  },
  {
   "cell_type": "code",
   "execution_count": 21,
   "id": "6d1e3cc0",
   "metadata": {},
   "outputs": [],
   "source": [
    "## Create Variables\n",
    "\n",
    "google = 400 * 6\n",
    "amazon = 380 * 4\n",
    "facebook = 350 * 10"
   ]
  },
  {
   "cell_type": "code",
   "execution_count": 20,
   "id": "278cae60",
   "metadata": {
    "scrolled": true
   },
   "outputs": [
    {
     "data": {
      "text/plain": [
       "7420"
      ]
     },
     "execution_count": 20,
     "metadata": {},
     "output_type": "execute_result"
    }
   ],
   "source": [
    "payment = google + amazon + facebook\n",
    "payment"
   ]
  },
  {
   "cell_type": "code",
   "execution_count": 1,
   "id": "ba6d14f4",
   "metadata": {
    "scrolled": false
   },
   "outputs": [
    {
     "ename": "SyntaxError",
     "evalue": "invalid syntax (3621842811.py, line 1)",
     "output_type": "error",
     "traceback": [
      "\u001b[0;36m  Input \u001b[0;32mIn [1]\u001b[0;36m\u001b[0m\n\u001b[0;31m    7. A student can be enrolled to a class\u001b[0m\n\u001b[0m       ^\u001b[0m\n\u001b[0;31mSyntaxError\u001b[0m\u001b[0;31m:\u001b[0m invalid syntax\n"
     ]
    }
   ],
   "source": [
    "7. A student can be enrolled to a class only if the class is not full \n",
    "   and the class schedule does not conflict with her current schedule."
   ]
  },
  {
   "cell_type": "code",
   "execution_count": 3,
   "id": "e3fe0851",
   "metadata": {},
   "outputs": [
    {
     "data": {
      "text/plain": [
       "True"
      ]
     },
     "execution_count": 3,
     "metadata": {},
     "output_type": "execute_result"
    }
   ],
   "source": [
    "class_not_full = True\n",
    "schedule_not_conflict = True\n",
    "enrolled_student = class_not_full and schedule_not_conflict\n",
    "enrolled_student"
   ]
  },
  {
   "cell_type": "code",
   "execution_count": null,
   "id": "0914f8ac",
   "metadata": {},
   "outputs": [],
   "source": [
    "8. A product offer can be applied only if people buys more than 2 items, \n",
    "   and the offer has not expired. \n",
    "   Premium members do not need to buy a specific amount of products."
   ]
  },
  {
   "cell_type": "code",
   "execution_count": 32,
   "id": "0cf59cad",
   "metadata": {},
   "outputs": [
    {
     "data": {
      "text/plain": [
       "2"
      ]
     },
     "execution_count": 32,
     "metadata": {},
     "output_type": "execute_result"
    }
   ],
   "source": [
    "items_plus = True\n",
    "items_not = False\n",
    "offer_available = True\n",
    "offer_not = False\n",
    "premium = True"
   ]
  },
  {
   "cell_type": "code",
   "execution_count": 35,
   "id": "6545d79c",
   "metadata": {},
   "outputs": [
    {
     "data": {
      "text/plain": [
       "False"
      ]
     },
     "execution_count": 35,
     "metadata": {},
     "output_type": "execute_result"
    }
   ],
   "source": [
    "product_offer = items_not and offer_not\n",
    "product_offer"
   ]
  },
  {
   "cell_type": "code",
   "execution_count": null,
   "id": "b3b92c54",
   "metadata": {},
   "outputs": [],
   "source": [
    "9. Create a variable that holds a boolean value for each of the following conditions:\n",
    "\n",
    "    The password must be at least 5 characters\n",
    "    The username must be no more than 20 characters\n",
    "    The password must not be the same as the username"
   ]
  },
  {
   "cell_type": "code",
   "execution_count": 26,
   "id": "c0949173",
   "metadata": {},
   "outputs": [],
   "source": [
    "username = 'codeup'\n",
    "password = 'notastrongpassword'"
   ]
  },
  {
   "cell_type": "code",
   "execution_count": 29,
   "id": "1b925270",
   "metadata": {},
   "outputs": [],
   "source": [
    "## Class Review\n",
    "minimum_password_length = len(password) >= 5"
   ]
  },
  {
   "cell_type": "code",
   "execution_count": 30,
   "id": "d91d8a96",
   "metadata": {},
   "outputs": [
    {
     "data": {
      "text/plain": [
       "True"
      ]
     },
     "execution_count": 30,
     "metadata": {},
     "output_type": "execute_result"
    }
   ],
   "source": [
    "minimum_password_length"
   ]
  },
  {
   "cell_type": "code",
   "execution_count": 34,
   "id": "d221ab17",
   "metadata": {},
   "outputs": [],
   "source": [
    "maximum_username_length = (len(username) <= 20)"
   ]
  },
  {
   "cell_type": "code",
   "execution_count": 35,
   "id": "3c54fe3b",
   "metadata": {
    "scrolled": true
   },
   "outputs": [
    {
     "data": {
      "text/plain": [
       "True"
      ]
     },
     "execution_count": 35,
     "metadata": {},
     "output_type": "execute_result"
    }
   ],
   "source": [
    "maximum_username_length"
   ]
  },
  {
   "cell_type": "code",
   "execution_count": null,
   "id": "797bce9b",
   "metadata": {},
   "outputs": [],
   "source": []
  }
 ],
 "metadata": {
  "kernelspec": {
   "display_name": "Python 3 (ipykernel)",
   "language": "python",
   "name": "python3"
  },
  "language_info": {
   "codemirror_mode": {
    "name": "ipython",
    "version": 3
   },
   "file_extension": ".py",
   "mimetype": "text/x-python",
   "name": "python",
   "nbconvert_exporter": "python",
   "pygments_lexer": "ipython3",
   "version": "3.9.13"
  }
 },
 "nbformat": 4,
 "nbformat_minor": 5
}
