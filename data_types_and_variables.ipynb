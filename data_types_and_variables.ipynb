{
 "cells": [
  {
   "cell_type": "code",
   "execution_count": null,
   "id": "695633ab",
   "metadata": {},
   "outputs": [],
   "source": [
    "5. You have rented some movies for your kids:\n",
    "    \n",
    "    The Little Mermaid for 3 days\n",
    "    Brother Bear for 5 days\n",
    "    Hercules for 1 day\n",
    "    \n",
    "If the daily fee to rent a movie is 3 dollars, how much will you have to pay?    "
   ]
  },
  {
   "cell_type": "code",
   "execution_count": null,
   "id": "b63204e9",
   "metadata": {},
   "outputs": [],
   "source": [
    "## Variables\n",
    "the_little_mermaid = 3\n",
    "brother_bear = 5\n",
    "hercules = 1\n",
    "daily_fee = 3"
   ]
  },
  {
   "cell_type": "code",
   "execution_count": null,
   "id": "60ebf204",
   "metadata": {},
   "outputs": [],
   "source": [
    "movies = the_little_mermaid + brother_bear + hercules\n",
    "movies\n",
    "\n",
    "total_cost = movies * daily_fee\n",
    "total_cost"
   ]
  },
  {
   "cell_type": "code",
   "execution_count": null,
   "id": "3f396b0a",
   "metadata": {},
   "outputs": [],
   "source": [
    "## Class Review\n",
    "daily_price = 3"
   ]
  },
  {
   "cell_type": "code",
   "execution_count": null,
   "id": "10b83e12",
   "metadata": {},
   "outputs": [],
   "source": [
    "# Set the number of days per movie\n",
    "the_little_mermaid = 3\n",
    "brother_bear = 5\n",
    "hercules = 1\n",
    "\n",
    "Could use a dictionary."
   ]
  },
  {
   "cell_type": "code",
   "execution_count": null,
   "id": "e2b95650",
   "metadata": {},
   "outputs": [],
   "source": [
    "6. Suppose youre working as a contractor for 3 companies: Google, Amazon and Facebook.\n",
    "\n",
    "    They pay you the following hourly rates:\n",
    "\n",
    "    Google: 400 dollars\n",
    "    Amazon: 380 dollars\n",
    "    Facebook: 350 dollars\n",
    "        \n",
    "    This week you worked: 10 hours for Facebook, 6 hours for Google and 4 hours for Amazon.\n",
    "        \n",
    "    How much will you receive in payment for this week?    "
   ]
  },
  {
   "cell_type": "code",
   "execution_count": null,
   "id": "6d1e3cc0",
   "metadata": {},
   "outputs": [],
   "source": [
    "## Create Variables\n",
    "\n",
    "google = 400 * 6\n",
    "amazon = 380 * 4\n",
    "facebook = 350 * 10"
   ]
  },
  {
   "cell_type": "code",
   "execution_count": null,
   "id": "278cae60",
   "metadata": {
    "scrolled": true
   },
   "outputs": [],
   "source": [
    "payment = google + amazon + facebook\n",
    "payment"
   ]
  },
  {
   "cell_type": "code",
   "execution_count": null,
   "id": "ba6d14f4",
   "metadata": {
    "scrolled": false
   },
   "outputs": [],
   "source": [
    "7. A student can be enrolled to a class only if the class is not full \n",
    "   and the class schedule does not conflict with her current schedule."
   ]
  },
  {
   "cell_type": "code",
   "execution_count": null,
   "id": "e3fe0851",
   "metadata": {},
   "outputs": [],
   "source": [
    "class_not_full = True\n",
    "schedule_not_conflict = True\n",
    "enrolled_student = class_not_full and schedule_not_conflict\n",
    "enrolled_student"
   ]
  },
  {
   "cell_type": "code",
   "execution_count": null,
   "id": "0914f8ac",
   "metadata": {},
   "outputs": [],
   "source": [
    "8. A product offer can be applied only if people buys more than 2 items, \n",
    "   and the offer has not expired. \n",
    "   Premium members do not need to buy a specific amount of products."
   ]
  },
  {
   "cell_type": "code",
   "execution_count": null,
   "id": "0cf59cad",
   "metadata": {},
   "outputs": [],
   "source": [
    "items_plus = True\n",
    "items_not = False\n",
    "offer_available = True\n",
    "offer_not = False\n",
    "premium = True"
   ]
  },
  {
   "cell_type": "code",
   "execution_count": null,
   "id": "6545d79c",
   "metadata": {},
   "outputs": [],
   "source": [
    "product_offer = items_not and offer_not\n",
    "product_offer"
   ]
  },
  {
   "cell_type": "code",
   "execution_count": null,
   "id": "3a621252",
   "metadata": {},
   "outputs": [],
   "source": [
    "9. Create a variable that holds a boolean value for each of the following conditions:\n",
    "\n",
    "    The password must be at least 5 characters\n",
    "    The username must be no more than 20 characters\n",
    "    The password must not be the same as the username"
   ]
  },
  {
   "cell_type": "code",
   "execution_count": null,
   "id": "5234fc7b",
   "metadata": {},
   "outputs": [],
   "source": [
    "username = 'codeup'\n",
    "password = 'notastrongpassword'"
   ]
  },
  {
   "cell_type": "code",
   "execution_count": null,
   "id": "8e884059",
   "metadata": {},
   "outputs": [],
   "source": [
    "## Class Review\n",
    "minimum_password_length = len(password) >= 5"
   ]
  },
  {
   "cell_type": "code",
   "execution_count": null,
   "id": "3f484ed3",
   "metadata": {},
   "outputs": [],
   "source": [
    "minimum_password_length"
   ]
  },
  {
   "cell_type": "code",
   "execution_count": null,
   "id": "9a935182",
   "metadata": {},
   "outputs": [],
   "source": [
    "maximum_username_length = (len(username) <= 20)"
   ]
  },
  {
   "cell_type": "code",
   "execution_count": null,
   "id": "455525f9",
   "metadata": {
    "scrolled": true
   },
   "outputs": [],
   "source": [
    "maximum_username_length"
   ]
  },
  {
   "cell_type": "code",
   "execution_count": null,
   "id": "e52942a0",
   "metadata": {},
   "outputs": [],
   "source": []
  }
 ],
 "metadata": {
  "kernelspec": {
   "display_name": "Python 3 (ipykernel)",
   "language": "python",
   "name": "python3"
  },
  "language_info": {
   "codemirror_mode": {
    "name": "ipython",
    "version": 3
   },
   "file_extension": ".py",
   "mimetype": "text/x-python",
   "name": "python",
   "nbconvert_exporter": "python",
   "pygments_lexer": "ipython3",
   "version": "3.9.13"
  }
 },
 "nbformat": 4,
 "nbformat_minor": 5
}
